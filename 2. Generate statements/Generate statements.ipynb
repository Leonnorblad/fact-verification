{
 "cells": [
  {
   "cell_type": "markdown",
   "metadata": {},
   "source": [
    "# **Generate statements**\n",
    "- Using the summaries, extracted from the scraped Wikipedia pages.\n",
    "- Generates true and fasle statements.\n",
    "- Saves the data - to be used of model training."
   ]
  },
  {
   "cell_type": "code",
   "execution_count": 1,
   "metadata": {},
   "outputs": [],
   "source": [
    "# Functions from my other script:\n",
    "from gen_statements import save_lst, preprocess_articles, generate_statements, construct_prompt_true, construct_prompt_false\n",
    "# Other packages:\n",
    "import pandas as pd"
   ]
  },
  {
   "cell_type": "markdown",
   "metadata": {},
   "source": [
    "### **Load data**"
   ]
  },
  {
   "cell_type": "code",
   "execution_count": 2,
   "metadata": {},
   "outputs": [],
   "source": [
    "wiki_articles = pd.read_csv(\"wikipedia_data.csv\")\n",
    "# wikipedia_data.csv is created in 'Scrape wikipedia.ipynb'\n",
    "# Columns: Title | Article | Summary"
   ]
  },
  {
   "cell_type": "markdown",
   "metadata": {},
   "source": [
    "### **Split data**\n",
    "Data is devided into two parts 50/50. One half is used to generate true statements the other is used to generate false statements."
   ]
  },
  {
   "cell_type": "code",
   "execution_count": 3,
   "metadata": {},
   "outputs": [],
   "source": [
    "true_statements_data, false_statements_data = preprocess_articles(wiki_articles, 2000)"
   ]
  },
  {
   "cell_type": "markdown",
   "metadata": {},
   "source": [
    "### **Generate true statements**"
   ]
  },
  {
   "cell_type": "code",
   "execution_count": 10,
   "metadata": {},
   "outputs": [
    {
     "name": "stderr",
     "output_type": "stream",
     "text": [
      "1000it [1:49:41,  6.58s/it]\n"
     ]
    }
   ],
   "source": [
    "full_report_true, true_statements = generate_statements(true_statements_data, construct_prompt_true, 1)\n",
    "save_lst(full_report_true, 'full_report_true.pkl')\n",
    "true_statements.to_csv(\"generated_statements_true.csv\", index=False)"
   ]
  },
  {
   "cell_type": "markdown",
   "metadata": {},
   "source": [
    "### **Generate false statements**"
   ]
  },
  {
   "cell_type": "code",
   "execution_count": 5,
   "metadata": {},
   "outputs": [
    {
     "name": "stderr",
     "output_type": "stream",
     "text": [
      "0it [00:00, ?it/s]"
     ]
    },
    {
     "name": "stderr",
     "output_type": "stream",
     "text": [
      "1000it [1:44:15,  6.26s/it]\n"
     ]
    }
   ],
   "source": [
    "full_report_false, false_statements = generate_statements(false_statements_data, construct_prompt_false, 0)\n",
    "save_lst(full_report_false, 'full_report_false.pkl')\n",
    "false_statements.to_csv(\"generated_statements_false.csv\", index=False)"
   ]
  },
  {
   "cell_type": "markdown",
   "metadata": {},
   "source": [
    "### **Merge true and false statements**"
   ]
  },
  {
   "cell_type": "code",
   "execution_count": 6,
   "metadata": {},
   "outputs": [],
   "source": [
    "all_statements = pd.concat([true_statements, false_statements], axis=0)\n",
    "all_statements.to_csv(\"generated_statements.csv\", index=False)"
   ]
  }
 ],
 "metadata": {
  "kernelspec": {
   "display_name": "TM_project",
   "language": "python",
   "name": "python3"
  },
  "language_info": {
   "codemirror_mode": {
    "name": "ipython",
    "version": 3
   },
   "file_extension": ".py",
   "mimetype": "text/x-python",
   "name": "python",
   "nbconvert_exporter": "python",
   "pygments_lexer": "ipython3",
   "version": "3.10.13"
  }
 },
 "nbformat": 4,
 "nbformat_minor": 2
}
