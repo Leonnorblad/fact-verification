{
 "cells": [
  {
   "cell_type": "markdown",
   "id": "71b50a01",
   "metadata": {
    "papermill": {
     "duration": 0.005927,
     "end_time": "2023-12-19T16:21:34.210121",
     "exception": false,
     "start_time": "2023-12-19T16:21:34.204194",
     "status": "completed"
    },
    "tags": []
   },
   "source": [
    "# **Evaluate fitted model**"
   ]
  },
  {
   "cell_type": "markdown",
   "id": "416496e9",
   "metadata": {
    "papermill": {
     "duration": 0.005464,
     "end_time": "2023-12-19T16:21:34.222028",
     "exception": false,
     "start_time": "2023-12-19T16:21:34.216564",
     "status": "completed"
    },
    "tags": []
   },
   "source": [
    "### **Imports**"
   ]
  },
  {
   "cell_type": "code",
   "execution_count": 1,
   "id": "e594c0d6",
   "metadata": {
    "execution": {
     "iopub.execute_input": "2023-12-19T16:21:34.235192Z",
     "iopub.status.busy": "2023-12-19T16:21:34.234476Z",
     "iopub.status.idle": "2023-12-19T16:22:00.308223Z",
     "shell.execute_reply": "2023-12-19T16:22:00.306899Z"
    },
    "papermill": {
     "duration": 26.083484,
     "end_time": "2023-12-19T16:22:00.311104",
     "exception": false,
     "start_time": "2023-12-19T16:21:34.227620",
     "status": "completed"
    },
    "tags": []
   },
   "outputs": [],
   "source": [
    "from fact_ver import extract_embedding\n",
    "from eval_mod import *\n",
    "import pandas as pd\n",
    "from sklearn.model_selection import train_test_split\n",
    "from tensorflow.keras.models import Model, load_model\n",
    "from sklearn.metrics import classification_report"
   ]
  },
  {
   "cell_type": "markdown",
   "id": "89257ea5",
   "metadata": {
    "papermill": {
     "duration": 0.006713,
     "end_time": "2023-12-19T16:22:00.324053",
     "exception": false,
     "start_time": "2023-12-19T16:22:00.317340",
     "status": "completed"
    },
    "tags": []
   },
   "source": [
    "## **Load data**"
   ]
  },
  {
   "cell_type": "code",
   "execution_count": 2,
   "id": "b2b4f351",
   "metadata": {
    "execution": {
     "iopub.execute_input": "2023-12-19T16:22:00.337205Z",
     "iopub.status.busy": "2023-12-19T16:22:00.336813Z",
     "iopub.status.idle": "2023-12-19T16:22:00.547571Z",
     "shell.execute_reply": "2023-12-19T16:22:00.546462Z"
    },
    "papermill": {
     "duration": 0.220877,
     "end_time": "2023-12-19T16:22:00.550344",
     "exception": false,
     "start_time": "2023-12-19T16:22:00.329467",
     "status": "completed"
    },
    "tags": []
   },
   "outputs": [
    {
     "data": {
      "text/html": [
       "<div>\n",
       "<style scoped>\n",
       "    .dataframe tbody tr th:only-of-type {\n",
       "        vertical-align: middle;\n",
       "    }\n",
       "\n",
       "    .dataframe tbody tr th {\n",
       "        vertical-align: top;\n",
       "    }\n",
       "\n",
       "    .dataframe thead th {\n",
       "        text-align: right;\n",
       "    }\n",
       "</style>\n",
       "<table border=\"1\" class=\"dataframe\">\n",
       "  <thead>\n",
       "    <tr style=\"text-align: right;\">\n",
       "      <th></th>\n",
       "      <th>Title</th>\n",
       "      <th>Article</th>\n",
       "      <th>Summary</th>\n",
       "      <th>Statement</th>\n",
       "      <th>Label</th>\n",
       "    </tr>\n",
       "  </thead>\n",
       "  <tbody>\n",
       "    <tr>\n",
       "      <th>0</th>\n",
       "      <td>USS SC-40</td>\n",
       "      <td>USS SC-40, until July 1920 known as USS Submar...</td>\n",
       "      <td>USS SC-40, until July 1920 known as USS Submar...</td>\n",
       "      <td>USS SC-40 was a wooden-hulled submarine chaser.</td>\n",
       "      <td>1</td>\n",
       "    </tr>\n",
       "    <tr>\n",
       "      <th>1</th>\n",
       "      <td>Valentina Zenere</td>\n",
       "      <td>Valentina Zenere  (born 15 January 1997) is an...</td>\n",
       "      <td>Valentina Zenere  (born 15 January 1997) is an...</td>\n",
       "      <td>Valentina Zenere plays Isadora Artiñán on Elite.</td>\n",
       "      <td>1</td>\n",
       "    </tr>\n",
       "    <tr>\n",
       "      <th>2</th>\n",
       "      <td>From M.E. to Myself</td>\n",
       "      <td>From M.E. to Myself (simplified Chinese: 和自己对话...</td>\n",
       "      <td>From M.E. to Myself (simplified Chinese: 和自己对话...</td>\n",
       "      <td>Golden Melody Awards for Best Mandarin Male Si...</td>\n",
       "      <td>1</td>\n",
       "    </tr>\n",
       "    <tr>\n",
       "      <th>3</th>\n",
       "      <td>Charalampos Papaioannou</td>\n",
       "      <td>Charalampos Papaioannou (born January 4, 1971)...</td>\n",
       "      <td>Charalampos Papaioannou (born January 4, 1971)...</td>\n",
       "      <td>Charalampos Papaioannou is a Greek judoka.</td>\n",
       "      <td>1</td>\n",
       "    </tr>\n",
       "    <tr>\n",
       "      <th>4</th>\n",
       "      <td>First United Methodist Church (Aberdeen, South...</td>\n",
       "      <td>Aberdeen First United Methodist Church is a hi...</td>\n",
       "      <td>Aberdeen First United Methodist Church is a hi...</td>\n",
       "      <td>The church features an open lantern atop the r...</td>\n",
       "      <td>1</td>\n",
       "    </tr>\n",
       "  </tbody>\n",
       "</table>\n",
       "</div>"
      ],
      "text/plain": [
       "                                               Title  \\\n",
       "0                                          USS SC-40   \n",
       "1                                   Valentina Zenere   \n",
       "2                                From M.E. to Myself   \n",
       "3                            Charalampos Papaioannou   \n",
       "4  First United Methodist Church (Aberdeen, South...   \n",
       "\n",
       "                                             Article  \\\n",
       "0  USS SC-40, until July 1920 known as USS Submar...   \n",
       "1  Valentina Zenere  (born 15 January 1997) is an...   \n",
       "2  From M.E. to Myself (simplified Chinese: 和自己对话...   \n",
       "3  Charalampos Papaioannou (born January 4, 1971)...   \n",
       "4  Aberdeen First United Methodist Church is a hi...   \n",
       "\n",
       "                                             Summary  \\\n",
       "0  USS SC-40, until July 1920 known as USS Submar...   \n",
       "1  Valentina Zenere  (born 15 January 1997) is an...   \n",
       "2  From M.E. to Myself (simplified Chinese: 和自己对话...   \n",
       "3  Charalampos Papaioannou (born January 4, 1971)...   \n",
       "4  Aberdeen First United Methodist Church is a hi...   \n",
       "\n",
       "                                           Statement  Label  \n",
       "0    USS SC-40 was a wooden-hulled submarine chaser.      1  \n",
       "1   Valentina Zenere plays Isadora Artiñán on Elite.      1  \n",
       "2  Golden Melody Awards for Best Mandarin Male Si...      1  \n",
       "3         Charalampos Papaioannou is a Greek judoka.      1  \n",
       "4  The church features an open lantern atop the r...      1  "
      ]
     },
     "execution_count": 2,
     "metadata": {},
     "output_type": "execute_result"
    }
   ],
   "source": [
    "generated_statements = pd.read_csv(\"generated_statements.csv\")\n",
    "generated_statements.head()"
   ]
  },
  {
   "cell_type": "markdown",
   "id": "35483a8c",
   "metadata": {
    "papermill": {
     "duration": 0.005701,
     "end_time": "2023-12-19T16:22:00.562293",
     "exception": false,
     "start_time": "2023-12-19T16:22:00.556592",
     "status": "completed"
    },
    "tags": []
   },
   "source": [
    "## **Split data**\n",
    "Same as when traning the model"
   ]
  },
  {
   "cell_type": "code",
   "execution_count": 3,
   "id": "b5cab393",
   "metadata": {
    "execution": {
     "iopub.execute_input": "2023-12-19T16:22:00.575762Z",
     "iopub.status.busy": "2023-12-19T16:22:00.575348Z",
     "iopub.status.idle": "2023-12-19T16:22:00.589118Z",
     "shell.execute_reply": "2023-12-19T16:22:00.587901Z"
    },
    "papermill": {
     "duration": 0.023338,
     "end_time": "2023-12-19T16:22:00.591489",
     "exception": false,
     "start_time": "2023-12-19T16:22:00.568151",
     "status": "completed"
    },
    "tags": []
   },
   "outputs": [
    {
     "name": "stdout",
     "output_type": "stream",
     "text": [
      "-> Train shape: (1400, 5)\n",
      "-> Val shape:   (400, 5)\n",
      "-> Test shape:  (200, 5)\n"
     ]
    }
   ],
   "source": [
    "train_data, val_test_data = train_test_split(generated_statements, test_size=0.3, random_state=42)\n",
    "val_data, test_data = train_test_split(val_test_data, test_size=1/3, random_state=42)\n",
    "print(f\"-> Train shape: {train_data.shape}\")\n",
    "print(f\"-> Val shape:   {val_data.shape}\")\n",
    "print(f\"-> Test shape:  {test_data.shape}\")"
   ]
  },
  {
   "cell_type": "markdown",
   "id": "dc57ac40",
   "metadata": {
    "papermill": {
     "duration": 0.005655,
     "end_time": "2023-12-19T16:22:00.603002",
     "exception": false,
     "start_time": "2023-12-19T16:22:00.597347",
     "status": "completed"
    },
    "tags": []
   },
   "source": [
    "## **Load embeddings**\n",
    "Same as when training the model"
   ]
  },
  {
   "cell_type": "code",
   "execution_count": 4,
   "id": "f04577b3",
   "metadata": {
    "execution": {
     "iopub.execute_input": "2023-12-19T16:22:00.616913Z",
     "iopub.status.busy": "2023-12-19T16:22:00.616156Z",
     "iopub.status.idle": "2023-12-19T16:23:36.761733Z",
     "shell.execute_reply": "2023-12-19T16:23:36.760731Z"
    },
    "papermill": {
     "duration": 96.155458,
     "end_time": "2023-12-19T16:23:36.764282",
     "exception": false,
     "start_time": "2023-12-19T16:22:00.608824",
     "status": "completed"
    },
    "tags": []
   },
   "outputs": [
    {
     "data": {
      "application/vnd.jupyter.widget-view+json": {
       "model_id": "871a2f5fb62d42dc8f24975fe92d0f15",
       "version_major": 2,
       "version_minor": 0
      },
      "text/plain": [
       "config.json:   0%|          | 0.00/286 [00:00<?, ?B/s]"
      ]
     },
     "metadata": {},
     "output_type": "display_data"
    },
    {
     "data": {
      "application/vnd.jupyter.widget-view+json": {
       "model_id": "99a884fd60c5495582ba5fc9bfab2ccf",
       "version_major": 2,
       "version_minor": 0
      },
      "text/plain": [
       "vocab.txt:   0%|          | 0.00/232k [00:00<?, ?B/s]"
      ]
     },
     "metadata": {},
     "output_type": "display_data"
    },
    {
     "data": {
      "application/vnd.jupyter.widget-view+json": {
       "model_id": "4a18bcdefa874f1d91e85016fe252080",
       "version_major": 2,
       "version_minor": 0
      },
      "text/plain": [
       "pytorch_model.bin:   0%|          | 0.00/116M [00:00<?, ?B/s]"
      ]
     },
     "metadata": {},
     "output_type": "display_data"
    }
   ],
   "source": [
    "evidence_train = extract_embedding(train_data[\"Summary\"], 127).numpy()\n",
    "evidence_val = extract_embedding(val_data[\"Summary\"], 127).numpy()\n",
    "evidence_test = extract_embedding(test_data[\"Summary\"], 127).numpy()\n",
    "\n",
    "claim_train = extract_embedding(train_data[\"Statement\"], 27).numpy()\n",
    "claim_val = extract_embedding(val_data[\"Statement\"], 27).numpy()\n",
    "claim_test = extract_embedding(test_data[\"Statement\"], 27).numpy()\n",
    "\n",
    "y_train = train_data[\"Label\"]\n",
    "y_val = val_data[\"Label\"]\n",
    "y_test = test_data[\"Label\"]"
   ]
  },
  {
   "cell_type": "markdown",
   "id": "7271350f",
   "metadata": {
    "papermill": {
     "duration": 0.00602,
     "end_time": "2023-12-19T16:23:36.776920",
     "exception": false,
     "start_time": "2023-12-19T16:23:36.770900",
     "status": "completed"
    },
    "tags": []
   },
   "source": [
    "## **Load model**"
   ]
  },
  {
   "cell_type": "code",
   "execution_count": 5,
   "id": "2b597d85",
   "metadata": {
    "execution": {
     "iopub.execute_input": "2023-12-19T16:23:36.791620Z",
     "iopub.status.busy": "2023-12-19T16:23:36.791230Z",
     "iopub.status.idle": "2023-12-19T16:23:42.512676Z",
     "shell.execute_reply": "2023-12-19T16:23:42.511298Z"
    },
    "papermill": {
     "duration": 5.732097,
     "end_time": "2023-12-19T16:23:42.515317",
     "exception": false,
     "start_time": "2023-12-19T16:23:36.783220",
     "status": "completed"
    },
    "tags": []
   },
   "outputs": [],
   "source": [
    "model = load_model(\"FactVerModel\")"
   ]
  },
  {
   "cell_type": "markdown",
   "id": "79eb7766",
   "metadata": {
    "papermill": {
     "duration": 0.006088,
     "end_time": "2023-12-19T16:23:42.527974",
     "exception": false,
     "start_time": "2023-12-19T16:23:42.521886",
     "status": "completed"
    },
    "tags": []
   },
   "source": [
    "## **Get classification report of each dataset**"
   ]
  },
  {
   "cell_type": "code",
   "execution_count": 6,
   "id": "da0f34ed",
   "metadata": {
    "execution": {
     "iopub.execute_input": "2023-12-19T16:23:42.542542Z",
     "iopub.status.busy": "2023-12-19T16:23:42.542111Z",
     "iopub.status.idle": "2023-12-19T16:23:46.858690Z",
     "shell.execute_reply": "2023-12-19T16:23:46.857512Z"
    },
    "papermill": {
     "duration": 4.326686,
     "end_time": "2023-12-19T16:23:46.861137",
     "exception": false,
     "start_time": "2023-12-19T16:23:42.534451",
     "status": "completed"
    },
    "tags": []
   },
   "outputs": [
    {
     "name": "stdout",
     "output_type": "stream",
     "text": [
      "              precision    recall  f1-score   support\n",
      "\n",
      "           0       0.95      0.97      0.96       702\n",
      "           1       0.97      0.95      0.96       698\n",
      "\n",
      "    accuracy                           0.96      1400\n",
      "   macro avg       0.96      0.96      0.96      1400\n",
      "weighted avg       0.96      0.96      0.96      1400\n",
      "\n"
     ]
    }
   ],
   "source": [
    "train_predictions = model.predict([claim_train, evidence_train], verbose=0)\n",
    "y_train_pred = (train_predictions > 0.5).astype(int)\n",
    "train_report = classification_report(y_train, y_train_pred)\n",
    "print(train_report)"
   ]
  },
  {
   "cell_type": "code",
   "execution_count": 7,
   "id": "c8ec9d6b",
   "metadata": {
    "execution": {
     "iopub.execute_input": "2023-12-19T16:23:46.877110Z",
     "iopub.status.busy": "2023-12-19T16:23:46.876493Z",
     "iopub.status.idle": "2023-12-19T16:23:47.264287Z",
     "shell.execute_reply": "2023-12-19T16:23:47.263150Z"
    },
    "papermill": {
     "duration": 0.3987,
     "end_time": "2023-12-19T16:23:47.266633",
     "exception": false,
     "start_time": "2023-12-19T16:23:46.867933",
     "status": "completed"
    },
    "tags": []
   },
   "outputs": [
    {
     "name": "stdout",
     "output_type": "stream",
     "text": [
      "              precision    recall  f1-score   support\n",
      "\n",
      "           0       0.90      0.80      0.85       106\n",
      "           1       0.80      0.90      0.85        94\n",
      "\n",
      "    accuracy                           0.85       200\n",
      "   macro avg       0.85      0.85      0.85       200\n",
      "weighted avg       0.86      0.85      0.85       200\n",
      "\n"
     ]
    }
   ],
   "source": [
    "test_predictions = model.predict([claim_test, evidence_test], verbose=0)\n",
    "y_test_pred = (test_predictions > 0.5).astype(int)\n",
    "test_report = classification_report(y_test, y_test_pred)\n",
    "print(test_report)"
   ]
  },
  {
   "cell_type": "code",
   "execution_count": 8,
   "id": "df12503a",
   "metadata": {
    "execution": {
     "iopub.execute_input": "2023-12-19T16:23:47.282114Z",
     "iopub.status.busy": "2023-12-19T16:23:47.281706Z",
     "iopub.status.idle": "2023-12-19T16:23:48.156687Z",
     "shell.execute_reply": "2023-12-19T16:23:48.155478Z"
    },
    "papermill": {
     "duration": 0.885607,
     "end_time": "2023-12-19T16:23:48.159184",
     "exception": false,
     "start_time": "2023-12-19T16:23:47.273577",
     "status": "completed"
    },
    "tags": []
   },
   "outputs": [
    {
     "name": "stdout",
     "output_type": "stream",
     "text": [
      "              precision    recall  f1-score   support\n",
      "\n",
      "           0       0.80      0.79      0.79       192\n",
      "           1       0.81      0.82      0.81       208\n",
      "\n",
      "    accuracy                           0.80       400\n",
      "   macro avg       0.80      0.80      0.80       400\n",
      "weighted avg       0.80      0.80      0.80       400\n",
      "\n"
     ]
    }
   ],
   "source": [
    "val_predictions = model.predict([claim_val, evidence_val], verbose=0)\n",
    "y_val_pred = (val_predictions > 0.5).astype(int)\n",
    "val_report = classification_report(y_val, y_val_pred)\n",
    "print(val_report)"
   ]
  },
  {
   "cell_type": "markdown",
   "id": "f1d734c5",
   "metadata": {
    "papermill": {
     "duration": 0.007369,
     "end_time": "2023-12-19T16:23:48.173992",
     "exception": false,
     "start_time": "2023-12-19T16:23:48.166623",
     "status": "completed"
    },
    "tags": []
   },
   "source": [
    "## **Use predictions to find false negatives and false positives**"
   ]
  },
  {
   "cell_type": "code",
   "execution_count": 9,
   "id": "96f15688",
   "metadata": {
    "execution": {
     "iopub.execute_input": "2023-12-19T16:23:48.192759Z",
     "iopub.status.busy": "2023-12-19T16:23:48.192044Z",
     "iopub.status.idle": "2023-12-19T16:23:48.205717Z",
     "shell.execute_reply": "2023-12-19T16:23:48.204649Z"
    },
    "papermill": {
     "duration": 0.026524,
     "end_time": "2023-12-19T16:23:48.208189",
     "exception": false,
     "start_time": "2023-12-19T16:23:48.181665",
     "status": "completed"
    },
    "tags": []
   },
   "outputs": [],
   "source": [
    "test_data[\"Predictions\"] = y_test_pred\n",
    "test_data[\"Model output\"] = test_predictions\n",
    "\n",
    "test_data[\"False Positive\"] = 0\n",
    "test_data[\"False Negative\"] = 0\n",
    "test_data[\"Correctly Predicted\"] = 0\n",
    "\n",
    "test_data.loc[(test_data[\"Label\"] == 1) & (test_data[\"Predictions\"] == 0), \"False Positive\"] = 1\n",
    "test_data.loc[(test_data[\"Label\"] == 0) & (test_data[\"Predictions\"] == 1), \"False Negative\"] = 1\n",
    "test_data.loc[test_data[\"Label\"] == test_data[\"Predictions\"], \"Correctly Predicted\"] = 1"
   ]
  },
  {
   "cell_type": "code",
   "execution_count": 10,
   "id": "d02934fc",
   "metadata": {
    "execution": {
     "iopub.execute_input": "2023-12-19T16:23:48.225020Z",
     "iopub.status.busy": "2023-12-19T16:23:48.223935Z",
     "iopub.status.idle": "2023-12-19T16:23:48.230596Z",
     "shell.execute_reply": "2023-12-19T16:23:48.229486Z"
    },
    "papermill": {
     "duration": 0.017064,
     "end_time": "2023-12-19T16:23:48.232678",
     "exception": false,
     "start_time": "2023-12-19T16:23:48.215614",
     "status": "completed"
    },
    "tags": []
   },
   "outputs": [
    {
     "name": "stdout",
     "output_type": "stream",
     "text": [
      "False Negative count: 21\n",
      "False Positive count: 9\n"
     ]
    }
   ],
   "source": [
    "print(f\"False Negative count: {sum(test_data['False Negative'])}\")\n",
    "print(f\"False Positive count: {sum(test_data['False Positive'])}\")"
   ]
  },
  {
   "cell_type": "code",
   "execution_count": 11,
   "id": "021e0ba3",
   "metadata": {
    "execution": {
     "iopub.execute_input": "2023-12-19T16:23:48.249430Z",
     "iopub.status.busy": "2023-12-19T16:23:48.248652Z",
     "iopub.status.idle": "2023-12-19T16:23:48.256346Z",
     "shell.execute_reply": "2023-12-19T16:23:48.255258Z"
    },
    "papermill": {
     "duration": 0.018898,
     "end_time": "2023-12-19T16:23:48.259046",
     "exception": false,
     "start_time": "2023-12-19T16:23:48.240148",
     "status": "completed"
    },
    "tags": []
   },
   "outputs": [],
   "source": [
    "fn = test_data[test_data['False Negative']==1]\n",
    "fp = test_data[test_data['False Positive']==1]"
   ]
  },
  {
   "cell_type": "markdown",
   "id": "120caabb",
   "metadata": {
    "papermill": {
     "duration": 0.006725,
     "end_time": "2023-12-19T16:23:48.273142",
     "exception": false,
     "start_time": "2023-12-19T16:23:48.266417",
     "status": "completed"
    },
    "tags": []
   },
   "source": [
    "## **Manually look at the incorrectly classified samples in the test data**"
   ]
  },
  {
   "cell_type": "code",
   "execution_count": 12,
   "id": "2d2e398f",
   "metadata": {
    "execution": {
     "iopub.execute_input": "2023-12-19T16:23:48.288870Z",
     "iopub.status.busy": "2023-12-19T16:23:48.288493Z",
     "iopub.status.idle": "2023-12-19T16:23:48.295961Z",
     "shell.execute_reply": "2023-12-19T16:23:48.294925Z"
    },
    "papermill": {
     "duration": 0.019066,
     "end_time": "2023-12-19T16:23:48.299198",
     "exception": false,
     "start_time": "2023-12-19T16:23:48.280132",
     "status": "completed"
    },
    "tags": []
   },
   "outputs": [
    {
     "name": "stdout",
     "output_type": "stream",
     "text": [
      "_________ Slingsby Falcon _________\n",
      " -> Statement: The Falcon was a single-seat sport glider.\n",
      " -> Model output: 0.23785646259784698 (Actual=1)\n",
      " -> Summary: 'The Slingsby T.1/T.2 Falcon or British Falcon) was a single-seat sport glider produced, in 1931–37, by Fred Slingsby in Scarborough, Yorkshire.\n",
      "\n",
      "\n",
      " == Design and development ==\n",
      "The Falcon was constructed from plans supplied by the Rhön-Rossitten Gesellschaft (the controlling body for gliding in Germany). Originally designed by Alexander Lippisch, the T.1 was a single-seat sport glider of moderate performance for its day.'\n",
      "\n",
      "\n",
      "_________ Frederick Wilhelmsen _________\n",
      " -> Statement: Frederick Wilhelmsen was a Catholic philosopher.\n",
      " -> Model output: 0.39685505628585815 (Actual=1)\n",
      " -> Summary: 'Frederick D. Wilhelmsen (18 May 1923–21 May 1996) was a Catholic philosopher known for his explication and advancement of the Thomistic tradition. He also was a political commentator, assessing American politics and society from a traditionalist perspective, and a political thinker, addressing what he perceived to be the failings of secular-liberal democracy. He principally was a professor at the University of Dallas from 1965 to his death in 1996.'\n",
      "\n",
      "\n",
      "_________ Odo of Arezzo _________\n",
      " -> Statement: Odo of Arezzo was a medieval composer.\n",
      " -> Model output: 0.2450205385684967 (Actual=1)\n",
      " -> Summary: 'Odo of Arezzo or Abbot Oddo (fl.  late 10th century) was a medieval monk who worked in Arezzo, active as composer and music theorist.\n",
      "\n",
      "\n",
      " == Life and career ==\n",
      "Little is known about his life, except that he was an Abbot in Arezzo, working under Bishop Donatus of Arezzo.'\n",
      "\n",
      "\n",
      "_________ Josh Svaty _________\n",
      " -> Statement: Josh Svaty was born on November 7, 1979.\n",
      " -> Model output: 0.1248447522521019 (Actual=1)\n",
      " -> Summary: 'Joshua Svaty (; born November 7, 1979) is an American politician, farmer, and businessman from Kansas. He announced his bid for the 2018 Kansas gubernatorial election as a Democrat on May 16, 2017.'\n",
      "\n",
      "\n",
      "_________ Akuamoa Ofosu-Boateng _________\n",
      " -> Statement: Akuamoa Ofosu-Boateng is a former Ghanaian politician.\n",
      " -> Model output: 0.446139931678772 (Actual=1)\n",
      " -> Summary: 'Akuamoa Ofosu-Boateng (born 1 February 1954) is a Ghanaian former politician and a member of the first and second parliament of the 4th republic of Ghana. He was a representative of the Lower west Akim Constituency in the Eastern Region and a member of the National Democratic Congress.\n",
      "\n",
      "\n",
      "'\n",
      "\n",
      "\n",
      "_________ Fritz Howard _________\n",
      " -> Statement: Fritz Howard is a fictional character portrayed by Jon Tenney.\n",
      " -> Model output: 0.36461418867111206 (Actual=1)\n",
      " -> Summary: 'Formerly an FBI Special Agent, Fritz Howard, who is now Deputy Chief of the LAPD Special Operations Bureau, is a fictional character featured in the TNT programs The Closer and Major Crimes, and is portrayed by Jon Tenney. Fritz received his initial training at the FBI Academy in Quantico, Virginia and has been working for the FBI in Los Angeles for the three years prior to Brenda Johnson's arrival in Los Angeles to become an LAPD Deputy Chief.'\n",
      "\n",
      "\n",
      "_________ Gbozounmè _________\n",
      " -> Statement: Gbozounmè is an arrondissement in Benin.\n",
      " -> Model output: 0.4076095223426819 (Actual=1)\n",
      " -> Summary: 'Gbozounmè is an arrondissement in the Ouémé department of Benin. It is an administrative division under the jurisdiction of the commune of Avrankou. According to the population census conducted by the Institut National de la Statistique Benin on February 15, 2002, the arrondissement had a total population of 6057.\n",
      "\n",
      "\n",
      " == References =='\n",
      "\n",
      "\n",
      "_________ Đuro Arnold _________\n",
      " -> Statement: Đuro Arnold was born in Ivanec.\n",
      " -> Model output: 0.22647525370121002 (Actual=1)\n",
      " -> Summary: 'Đuro Arnold (24 March 1853 – 22 February 1941) was a Croatian writer and philosopher.\n",
      "\n",
      "\n",
      " == Early life and study ==\n",
      "Arnold was born as the 19th of 24 children of Ivan, a tax gatherer, and Sofija, née Vukanić. His ancestors arrived from Switzerland during the French Revolution. He was born in Ivanec and spent his early childhood in Krapina.'\n",
      "\n",
      "\n",
      "_________ Monarch Icefield _________\n",
      " -> Statement: Monarch Icefield is the northernmost continental icecap.\n",
      " -> Model output: 0.1233481913805008 (Actual=1)\n",
      " -> Summary: 'The Monarch Icefield is the northernmost of a series of large continental icecaps studding the heights of the Pacific Ranges of the Coast Mountains in southern British Columbia.  '\n",
      "\n",
      "\n"
     ]
    }
   ],
   "source": [
    "for i, row in fp.iterrows():\n",
    "    print(f\"_________ {row['Title']} _________\")\n",
    "    print(f\" -> Statement: {row['Statement']}\")\n",
    "    print(f\" -> Model output: {row['Model output']} (Actual={row['Label']})\")\n",
    "    print(f\" -> Summary: '{row['Summary']}'\")\n",
    "    print(\"\\n\")\n",
    "    "
   ]
  },
  {
   "cell_type": "code",
   "execution_count": 13,
   "id": "65b84e3a",
   "metadata": {
    "execution": {
     "iopub.execute_input": "2023-12-19T16:23:48.316524Z",
     "iopub.status.busy": "2023-12-19T16:23:48.315474Z",
     "iopub.status.idle": "2023-12-19T16:23:48.325751Z",
     "shell.execute_reply": "2023-12-19T16:23:48.324614Z"
    },
    "papermill": {
     "duration": 0.021928,
     "end_time": "2023-12-19T16:23:48.328724",
     "exception": false,
     "start_time": "2023-12-19T16:23:48.306796",
     "status": "completed"
    },
    "tags": []
   },
   "outputs": [
    {
     "name": "stdout",
     "output_type": "stream",
     "text": [
      "_________ HMS Electra (1808) _________\n",
      " -> Statement: HMS Electra was a 50-gun battleship.\n",
      " -> Model output: 0.7559460401535034 (Actual=0)\n",
      " -> Summary: 'HMS Electra was a 16-gun brig-sloop. She was built by the Enterprise Ethéart, Saint-Malo, as the French Curieux-class brig Espiègle and launched in 1804. She was armed in 1807 at Saint Servan. The British frigate Sybille captured her on 16 August 1808.'\n",
      "\n",
      "\n",
      "_________ 3409 Abramov _________\n",
      " -> Statement: 3409 Abramov is a gaseous asteroid.\n",
      " -> Model output: 0.5934113264083862 (Actual=0)\n",
      " -> Summary: '3409 Abramov, provisional designation 1977 RE6, is a stony Koronian asteroid from the outer region of the asteroid belt, approximately 11 kilometers in diameter. It was discovered on 9 September 1977, by Soviet–Russian astronomer Nikolai Chernykh at Crimean Astrophysical Observatory in Nauchnyj on the Crimean peninsula. The asteroid was named after Russian writer Fyodor Abramov.\n",
      "\n",
      "\n",
      "'\n",
      "\n",
      "\n",
      "_________ 2018–19 CSA T20 Challenge _________\n",
      " -> Statement: The 2018–19 CSA T20 Challenge took place in March 2019.\n",
      " -> Model output: 0.8101370334625244 (Actual=0)\n",
      " -> Summary: 'The 2018–19 CSA T20 Challenge was the sixteenth season of the CSA T20 Challenge, established by Cricket South Africa. It took place from 5 April to 5 May 2019. Titans were the defending champions. In April 2019, Cricket South Africa announced that this would be the final edition of the T20 Challenge, due to austerity measures and a restructure of domestic cricket in the country.'\n",
      "\n",
      "\n",
      "_________ TraJ 5' UTR _________\n",
      " -> Statement: FinP gene encodes a sense RNA product.\n",
      " -> Model output: 0.8636839389801025 (Actual=0)\n",
      " -> Summary: 'The traJ 5' UTR is a cis acting RNA element which is involved in regulating plasmid transfer in bacteria.\n",
      " In conjugating bacteria the FinOP system regulates the transfer of F-like plasmids. The FinP gene encodes an antisense RNA product that is complementary to part of the 5' UTR of the traJ mRNA.'\n",
      "\n",
      "\n",
      "_________ Detroit Cyclecar _________\n",
      " -> Statement: The Detroit Cyclecar was manufactured in Chicago, Illinois.\n",
      " -> Model output: 0.6283668279647827 (Actual=0)\n",
      " -> Summary: 'The Detroit Cyclecar was a cyclecar manufactured in Detroit, Michigan by the Detroit Cyclecar Company from 1913 to 1914 and Saginaw, Michigan in 1914.\n",
      "\n",
      "\n",
      " == History ==\n",
      "The cyclecar, also marketed as the Detroit Speedster and Little Detroit Speedster, was designed by Ernest Weigold, former engineer for the  E.R. Thomas Motor Company, and chief engineer for Herreshoff.'\n",
      "\n",
      "\n",
      "_________ Garden Mountain Cluster _________\n",
      " -> Statement: The Garden Mountain Cluster is recognized for its urban development.\n",
      " -> Model output: 0.7993263602256775 (Actual=0)\n",
      " -> Summary: 'The Garden Mountain Cluster is a region in the Jefferson National Forest recognized by The Wilderness Society for its diversity of habitats extending along the east, south and west of Burke's Garden. The cluster, part of the Appalachian Mountains in southwest Virginia, connects wildlands in the high country of Garden Mountain and adjacent streams and ridges in one of the most remote areas of Virginia.\n",
      "\n",
      "\n",
      "'\n",
      "\n",
      "\n",
      "_________ Zach Bryan discography _________\n",
      " -> Statement: Zach Bryan has released six studio albums.\n",
      " -> Model output: 0.7571699023246765 (Actual=0)\n",
      " -> Summary: 'American singer Zach Bryan has released four studio albums, one live album, three extended plays, and eight singles. His first album, DeAnn, was released in 2019, which was followed by second album Elisabeth in 2020. Bryan achieved his breakthrough in 2022 with his third album American Heartbreak and its single \"Something in the Orange\", which reached the top five on the Billboard 200 and top 10 on the Billboard Hot 100, respectively.'\n",
      "\n",
      "\n",
      "_________ AnimeCon _________\n",
      " -> Statement: AnimeCon was held in Tokyo, Japan in 1991.\n",
      " -> Model output: 0.767824649810791 (Actual=0)\n",
      " -> Summary: 'AnimeCon, held in San Jose, California in 1991, was the fourth anime convention created in the United States, the first convention to have major backing from the anime industry, the first anime-specific convention within the state of California (which spawned many similar conventions thereafter), and the first anime-specific convention in the US to break 1,000 attendees. It also formed the genesis of Anime Expo (currently the largest anime-specific convention in North America).\n",
      "\n",
      "\n",
      "'\n",
      "\n",
      "\n",
      "_________ Short track speed skating at the 2002 Winter Olympics – Women's 1000 metres _________\n",
      " -> Statement: The first round was held on 25 February.\n",
      " -> Model output: 0.8235568404197693 (Actual=0)\n",
      " -> Summary: 'The women's 1000 metres in short track speed skating at the 2002 Winter Olympics took place from 20 to 23 February at the Salt Lake Ice Center.\n",
      "\n",
      "\n",
      " == Records ==\n",
      "Prior to this competition, the existing world and Olympic records were as follows:\n",
      "The following new Olympic records were set during this competition.\n",
      "\n",
      "\n",
      " == Results ==\n",
      "\n",
      "\n",
      "=== Heats ===\n",
      "The first round was held on 20 February.'\n",
      "\n",
      "\n",
      "_________ Harper MacKay _________\n",
      " -> Statement: Harper MacKay won the Nobel Peace Prize.\n",
      " -> Model output: 0.9594718813896179 (Actual=0)\n",
      " -> Summary: 'Harper MacKay (October 13, 1921 — June 2, 1995) was an American pianist, music director, and composer and arranger of music for television and film. He was the longtime music director of the Los Angeles Civic Light Opera and was also the music director for singer Ann Blyth; serving as her arranger and accompanist in concert.'\n",
      "\n",
      "\n",
      "_________ Jack Snelling _________\n",
      " -> Statement: Snelling left the Labor Party in 2021 to join the Green Party.\n",
      " -> Model output: 0.5754516124725342 (Actual=0)\n",
      " -> Summary: 'John James \"Jack\" Snelling (born 8 November 1972) is a former Australian politician. He was the Labor member for the South Australian House of Assembly seat of Playford from the 1997 election until his retirement in 2018. Snelling left the Labor Party in 2021 to found the Family First Party.\n",
      "\n",
      "\n",
      "'\n",
      "\n",
      "\n",
      "_________ Indian Nocturne _________\n",
      " -> Statement: The book won the Chinese Prix Médicis étranger in 1987.\n",
      " -> Model output: 0.926356315612793 (Actual=0)\n",
      " -> Summary: 'Indian Nocturne (Italian: Notturno indiano) is a 1984 novella by the Italian writer Antonio Tabucchi. It tells the story of a man on a search for his mysterious friend in India. The book won the French Prix Médicis étranger in 1987. Alain Corneau directed a 1989 French film adaptation with the title Nocturne indien.\n",
      "\n",
      "\n",
      "'\n",
      "\n",
      "\n",
      "_________ Ąžuolaičiai _________\n",
      " -> Statement: Ąžuolaičiai has a population of 500 people.\n",
      " -> Model output: 0.9098600745201111 (Actual=0)\n",
      " -> Summary: 'Ąžuolaičiai is a village in Kėdainiai district municipality, in Kaunas County, in central Lithuania. It is located by the Jaugila river, 3 km from Dotnuva. According to the 2011 census, the village has a population of 137 people.\n",
      "\n",
      "\n",
      " == Demography ==\n",
      "\n",
      "\n",
      "== References =='\n",
      "\n",
      "\n",
      "_________ KSIM _________\n",
      " -> Statement: KSIM is a TV station licensed to serve Sikeston, Missouri.\n",
      " -> Model output: 0.733795702457428 (Actual=0)\n",
      " -> Summary: 'KSIM (1400 AM) is a radio station licensed to serve Sikeston, Missouri, United States. The station is owned by Max Media and licensed to MRR License LLC. It airs a news/talk format. KSIM shares significant programming with sister station KZIM.\n",
      "\n",
      "\n",
      " == History ==\n",
      "KSIM went on the air in 1948 and was owned by the Sikeston Community Broadcasting Company.'\n",
      "\n",
      "\n",
      "_________ Charlie Craig (screenwriter) _________\n",
      " -> Statement: Charlie Craig is a French television producer and writer.\n",
      " -> Model output: 0.8111965656280518 (Actual=0)\n",
      " -> Summary: 'Charles Grant Craig (sometimes credited as Charlie Craig) is an American television producer and writer. He worked on the third season of supernatural drama series The X-Files. The season was nominated for the Emmy Award for outstanding drama series.\n",
      "\n",
      "\n",
      " == Career ==\n",
      "Craig joined the crew of The X-Files as a supervising producer and writer for the third season in 1995. The X-Files was created by Chris Carter and focuses on a pair of FBI agents investigating cases with links to the paranormal.'\n",
      "\n",
      "\n",
      "_________ 1947–48 SM-sarja season _________\n",
      " -> Statement: Tarmo Hameenlinna did not win the championship.\n",
      " -> Model output: 0.8944042921066284 (Actual=0)\n",
      " -> Summary: 'The 1947–48 SM-sarja season was the 17th season of the SM-sarja, the top level of ice hockey in Finland. Seven teams participated in the league, and Tarmo Hameenlinna won the championship.\n",
      "\n",
      "\n",
      " == Regular season ==\n",
      "\n",
      "\n",
      "== External links ==\n",
      "Season on hockeyarchives.info'\n",
      "\n",
      "\n",
      "_________ Sir Archibald Macdonald, 3rd Baronet _________\n",
      " -> Statement: Sir Archibald Keppel Macdonald was a Spanish first-class cricketer.\n",
      " -> Model output: 0.8684529662132263 (Actual=0)\n",
      " -> Summary: 'Sir Archibald Keppel Macdonald, 3rd Baronet (15 October 1820 – 28 March 1901) was an English first-class cricketer and British Army officer.\n",
      " The son of Sir James Macdonald and Lady Sophia Keppel, he was born at London in October 1820. He was educated at Harrow School.'\n",
      "\n",
      "\n",
      "_________ Greenberg Traurig _________\n",
      " -> Statement: Greenberg Traurig is actually a shoe manufacturing company.\n",
      " -> Model output: 0.7121983170509338 (Actual=0)\n",
      " -> Summary: 'Greenberg Traurig is a multinational law and lobbying firm founded in Miami in 1967 by Larry J. Hoffman, Mel Greenberg and Robert H. Traurig. As of 2022, it is the 9th largest law firm in the United States. The firm has 45 locations in the U.S., Europe and the Middle East, Latin America, and Asia, and approximately 2650 attorneys worldwide.'\n",
      "\n",
      "\n",
      "_________ Murali Kartik _________\n",
      " -> Statement: Murali Kartik was a specialist fast bowler.\n",
      " -> Model output: 0.9555478096008301 (Actual=0)\n",
      " -> Summary: 'Murali Kartik (, born 11 September 1976) is an Indian cricket commentator and former cricketer who sporadically represented the national team from 2000 to 2007. He was a specialist slow left arm orthodox bowler known for his loopy trajectory and ability to spin and bounce, but  was not selected for international matches during his prime years due to the presence of Anil Kumble and Harbhajan Singh.'\n",
      "\n",
      "\n",
      "_________ Sakalovapalo burial mounds _________\n",
      " -> Statement: The Sakalovapalo burial mounds were built last year.\n",
      " -> Model output: 0.6728894114494324 (Actual=0)\n",
      " -> Summary: 'Sakalovapalo burial mounds is an ancient burial ground, a cemetery in Obinitsa village, Setomaa Parish, Võru County in southeastern Estonia.\n",
      " A stone cross used to be located near the burial mounds and the place was important and well known for the people in the region.'\n",
      "\n",
      "\n",
      "_________ Iain Stewart (politician) _________\n",
      " -> Statement: Iain Stewart is a professional ballet dancer.\n",
      " -> Model output: 0.5961948037147522 (Actual=0)\n",
      " -> Summary: 'Iain Aitken Stewart (born 18 September 1972) is a British Conservative Party politician and former accountant. He has served as the Member of Parliament (MP) for Milton Keynes South since 2010.Stewart served as Under-Secretary of State for Scotland from June 2020 to September 2022, sharing the role with  David Duguid until September 2021, then with Malcolm Offord.\n",
      "\n",
      "\n",
      "'\n",
      "\n",
      "\n"
     ]
    }
   ],
   "source": [
    "for i, row in fn.iterrows():\n",
    "    print(f\"_________ {row['Title']} _________\")\n",
    "    print(f\" -> Statement: {row['Statement']}\")\n",
    "    print(f\" -> Model output: {row['Model output']} (Actual={row['Label']})\")\n",
    "    print(f\" -> Summary: '{row['Summary']}'\")\n",
    "    print(\"\\n\")"
   ]
  },
  {
   "cell_type": "markdown",
   "id": "d107a5cc",
   "metadata": {
    "papermill": {
     "duration": 0.007403,
     "end_time": "2023-12-19T16:23:48.344072",
     "exception": false,
     "start_time": "2023-12-19T16:23:48.336669",
     "status": "completed"
    },
    "tags": []
   },
   "source": [
    "## **Edit input to model to evalue it**"
   ]
  },
  {
   "cell_type": "code",
   "execution_count": 14,
   "id": "2f3be554",
   "metadata": {
    "execution": {
     "iopub.execute_input": "2023-12-19T16:23:48.362137Z",
     "iopub.status.busy": "2023-12-19T16:23:48.360842Z",
     "iopub.status.idle": "2023-12-19T16:23:51.531185Z",
     "shell.execute_reply": "2023-12-19T16:23:51.529812Z"
    },
    "papermill": {
     "duration": 3.181577,
     "end_time": "2023-12-19T16:23:51.533379",
     "exception": false,
     "start_time": "2023-12-19T16:23:48.351802",
     "status": "completed"
    },
    "tags": []
   },
   "outputs": [
    {
     "data": {
      "text/plain": [
       "0.9579151"
      ]
     },
     "execution_count": 14,
     "metadata": {},
     "output_type": "execute_result"
    }
   ],
   "source": [
    "# Correctly predicted\n",
    "# label = 1\n",
    "claim = 'Transportation Alternatives works to change transportation priorities.'\n",
    "evidence = 'Transportation Alternatives (TransAlt, formerly T.A.) is a non-profit organization in New York City which works to change New York City\\'s transportation priorities to encourage and increase non-polluting, quiet, city-friendly travel and decrease automobile use. TransAlt seeks a transportation system based on a \"Green Transportation Hierarchy\" giving preference to modes of travel based on their relative benefits and costs to society.'\n",
    "mod_pred(claim, evidence)"
   ]
  },
  {
   "cell_type": "code",
   "execution_count": 15,
   "id": "1acbab71",
   "metadata": {
    "execution": {
     "iopub.execute_input": "2023-12-19T16:23:51.552081Z",
     "iopub.status.busy": "2023-12-19T16:23:51.550931Z",
     "iopub.status.idle": "2023-12-19T16:23:53.358854Z",
     "shell.execute_reply": "2023-12-19T16:23:53.357643Z"
    },
    "papermill": {
     "duration": 1.819919,
     "end_time": "2023-12-19T16:23:53.361252",
     "exception": false,
     "start_time": "2023-12-19T16:23:51.541333",
     "status": "completed"
    },
    "tags": []
   },
   "outputs": [
    {
     "data": {
      "text/plain": [
       "0.95605856"
      ]
     },
     "execution_count": 15,
     "metadata": {},
     "output_type": "execute_result"
    }
   ],
   "source": [
    "# Change wording, still true (correct)\n",
    "claim = 'Transportation Alternatives strives to shift the focus of transportation priorities.'\n",
    "evidence = 'Transportation Alternatives (TransAlt, formerly T.A.) is a non-profit organization in New York City which works to change New York City\\'s transportation priorities to encourage and increase non-polluting, quiet, city-friendly travel and decrease automobile use. TransAlt seeks a transportation system based on a \"Green Transportation Hierarchy\" giving preference to modes of travel based on their relative benefits and costs to society.'\n",
    "\n",
    "mod_pred(claim, evidence)"
   ]
  },
  {
   "cell_type": "code",
   "execution_count": 16,
   "id": "5be6829e",
   "metadata": {
    "execution": {
     "iopub.execute_input": "2023-12-19T16:23:53.380739Z",
     "iopub.status.busy": "2023-12-19T16:23:53.380309Z",
     "iopub.status.idle": "2023-12-19T16:23:55.218484Z",
     "shell.execute_reply": "2023-12-19T16:23:55.217435Z"
    },
    "papermill": {
     "duration": 1.850704,
     "end_time": "2023-12-19T16:23:55.220735",
     "exception": false,
     "start_time": "2023-12-19T16:23:53.370031",
     "status": "completed"
    },
    "tags": []
   },
   "outputs": [
    {
     "data": {
      "text/plain": [
       "0.18087105"
      ]
     },
     "execution_count": 16,
     "metadata": {},
     "output_type": "execute_result"
    }
   ],
   "source": [
    "# Change worning, make it false (correct)\n",
    "claim = 'Transportation Alternatives is a petroleum company.'\n",
    "evidence = 'Transportation Alternatives (TransAlt, formerly T.A.) is a non-profit organization in New York City which works to change New York City\\'s transportation priorities to encourage and increase non-polluting, quiet, city-friendly travel and decrease automobile use. TransAlt seeks a transportation system based on a \"Green Transportation Hierarchy\" giving preference to modes of travel based on their relative benefits and costs to society.'\n",
    "\n",
    "mod_pred(claim, evidence)"
   ]
  },
  {
   "cell_type": "code",
   "execution_count": 17,
   "id": "37fc6346",
   "metadata": {
    "execution": {
     "iopub.execute_input": "2023-12-19T16:23:55.239042Z",
     "iopub.status.busy": "2023-12-19T16:23:55.238337Z",
     "iopub.status.idle": "2023-12-19T16:23:57.072308Z",
     "shell.execute_reply": "2023-12-19T16:23:57.071152Z"
    },
    "papermill": {
     "duration": 1.845865,
     "end_time": "2023-12-19T16:23:57.074786",
     "exception": false,
     "start_time": "2023-12-19T16:23:55.228921",
     "status": "completed"
    },
    "tags": []
   },
   "outputs": [
    {
     "data": {
      "text/plain": [
       "0.13681345"
      ]
     },
     "execution_count": 17,
     "metadata": {},
     "output_type": "execute_result"
    }
   ],
   "source": [
    "# Add 'not', make it false (corret)\n",
    "claim = 'The Transportation Alternatives does not work to change transportation priorities.'\n",
    "evidence = 'Transportation Alternatives (TransAlt, formerly T.A.) is a non-profit organization in New York City which works to change New York City\\'s transportation priorities to encourage and increase non-polluting, quiet, city-friendly travel and decrease automobile use. TransAlt seeks a transportation system based on a \"Green Transportation Hierarchy\" giving preference to modes of travel based on their relative benefits and costs to society.'\n",
    "\n",
    "mod_pred(claim, evidence)"
   ]
  },
  {
   "cell_type": "code",
   "execution_count": 18,
   "id": "5a11b3ef",
   "metadata": {
    "execution": {
     "iopub.execute_input": "2023-12-19T16:23:57.094386Z",
     "iopub.status.busy": "2023-12-19T16:23:57.093976Z",
     "iopub.status.idle": "2023-12-19T16:23:58.661568Z",
     "shell.execute_reply": "2023-12-19T16:23:58.660621Z"
    },
    "papermill": {
     "duration": 1.579749,
     "end_time": "2023-12-19T16:23:58.663769",
     "exception": false,
     "start_time": "2023-12-19T16:23:57.084020",
     "status": "completed"
    },
    "tags": []
   },
   "outputs": [
    {
     "data": {
      "text/plain": [
       "0.12414804"
      ]
     },
     "execution_count": 18,
     "metadata": {},
     "output_type": "execute_result"
    }
   ],
   "source": [
    "# Add 'not' and change menaing, make it true (incorrect)\n",
    "claim = 'Transportation Alternatives does not support polluting'\n",
    "evidence = 'Transportation Alternatives (TransAlt, formerly T.A.) is a non-profit organization in New York City which works to change New York City\\'s transportation priorities to encourage and increase non-polluting, quiet, city-friendly travel and decrease automobile use. TransAlt seeks a transportation system based on a \"Green Transportation Hierarchy\" giving preference to modes of travel based on their relative benefits and costs to society.'\n",
    "\n",
    "mod_pred(claim, evidence)\n",
    "# Take: not --> False statement due to data bias"
   ]
  }
 ],
 "metadata": {
  "kaggle": {
   "accelerator": "none",
   "dataSources": [
    {
     "datasetId": 4174909,
     "sourceId": 7214629,
     "sourceType": "datasetVersion"
    },
    {
     "datasetId": 4192879,
     "sourceId": 7239530,
     "sourceType": "datasetVersion"
    },
    {
     "sourceId": 155674632,
     "sourceType": "kernelVersion"
    },
    {
     "sourceId": 155686825,
     "sourceType": "kernelVersion"
    }
   ],
   "dockerImageVersionId": 30626,
   "isGpuEnabled": false,
   "isInternetEnabled": true,
   "language": "python",
   "sourceType": "notebook"
  },
  "kernelspec": {
   "display_name": "Python 3",
   "language": "python",
   "name": "python3"
  },
  "language_info": {
   "codemirror_mode": {
    "name": "ipython",
    "version": 3
   },
   "file_extension": ".py",
   "mimetype": "text/x-python",
   "name": "python",
   "nbconvert_exporter": "python",
   "pygments_lexer": "ipython3",
   "version": "3.10.12"
  },
  "papermill": {
   "default_parameters": {},
   "duration": 150.441055,
   "end_time": "2023-12-19T16:24:01.486689",
   "environment_variables": {},
   "exception": null,
   "input_path": "__notebook__.ipynb",
   "output_path": "__notebook__.ipynb",
   "parameters": {},
   "start_time": "2023-12-19T16:21:31.045634",
   "version": "2.4.0"
  },
  "widgets": {
   "application/vnd.jupyter.widget-state+json": {
    "state": {
     "0aa32715a29a4f0999f585284bac429b": {
      "model_module": "@jupyter-widgets/controls",
      "model_module_version": "1.5.0",
      "model_name": "DescriptionStyleModel",
      "state": {
       "_model_module": "@jupyter-widgets/controls",
       "_model_module_version": "1.5.0",
       "_model_name": "DescriptionStyleModel",
       "_view_count": null,
       "_view_module": "@jupyter-widgets/base",
       "_view_module_version": "1.2.0",
       "_view_name": "StyleView",
       "description_width": ""
      }
     },
     "106a13507cff4813b3a1a1280725a81e": {
      "model_module": "@jupyter-widgets/controls",
      "model_module_version": "1.5.0",
      "model_name": "ProgressStyleModel",
      "state": {
       "_model_module": "@jupyter-widgets/controls",
       "_model_module_version": "1.5.0",
       "_model_name": "ProgressStyleModel",
       "_view_count": null,
       "_view_module": "@jupyter-widgets/base",
       "_view_module_version": "1.2.0",
       "_view_name": "StyleView",
       "bar_color": null,
       "description_width": ""
      }
     },
     "12b4fa2039444101b9438ffea97728fd": {
      "model_module": "@jupyter-widgets/controls",
      "model_module_version": "1.5.0",
      "model_name": "HTMLModel",
      "state": {
       "_dom_classes": [],
       "_model_module": "@jupyter-widgets/controls",
       "_model_module_version": "1.5.0",
       "_model_name": "HTMLModel",
       "_view_count": null,
       "_view_module": "@jupyter-widgets/controls",
       "_view_module_version": "1.5.0",
       "_view_name": "HTMLView",
       "description": "",
       "description_tooltip": null,
       "layout": "IPY_MODEL_1a6f90667f924ba4bf2d52400c868a3c",
       "placeholder": "​",
       "style": "IPY_MODEL_2339639dafeb47c9becc6cac24697971",
       "value": " 116M/116M [00:00&lt;00:00, 171MB/s]"
      }
     },
     "16e9b2e00a5e41d6934fc96edbbbca18": {
      "model_module": "@jupyter-widgets/controls",
      "model_module_version": "1.5.0",
      "model_name": "HTMLModel",
      "state": {
       "_dom_classes": [],
       "_model_module": "@jupyter-widgets/controls",
       "_model_module_version": "1.5.0",
       "_model_name": "HTMLModel",
       "_view_count": null,
       "_view_module": "@jupyter-widgets/controls",
       "_view_module_version": "1.5.0",
       "_view_name": "HTMLView",
       "description": "",
       "description_tooltip": null,
       "layout": "IPY_MODEL_f0131c99178344ee8da75192c8733b97",
       "placeholder": "​",
       "style": "IPY_MODEL_acf98b1a8a384467964cde37da57d899",
       "value": " 286/286 [00:00&lt;00:00, 15.7kB/s]"
      }
     },
     "177bc4f6fbdf4c9bbecd29eb2da54f98": {
      "model_module": "@jupyter-widgets/base",
      "model_module_version": "1.2.0",
      "model_name": "LayoutModel",
      "state": {
       "_model_module": "@jupyter-widgets/base",
       "_model_module_version": "1.2.0",
       "_model_name": "LayoutModel",
       "_view_count": null,
       "_view_module": "@jupyter-widgets/base",
       "_view_module_version": "1.2.0",
       "_view_name": "LayoutView",
       "align_content": null,
       "align_items": null,
       "align_self": null,
       "border": null,
       "bottom": null,
       "display": null,
       "flex": null,
       "flex_flow": null,
       "grid_area": null,
       "grid_auto_columns": null,
       "grid_auto_flow": null,
       "grid_auto_rows": null,
       "grid_column": null,
       "grid_gap": null,
       "grid_row": null,
       "grid_template_areas": null,
       "grid_template_columns": null,
       "grid_template_rows": null,
       "height": null,
       "justify_content": null,
       "justify_items": null,
       "left": null,
       "margin": null,
       "max_height": null,
       "max_width": null,
       "min_height": null,
       "min_width": null,
       "object_fit": null,
       "object_position": null,
       "order": null,
       "overflow": null,
       "overflow_x": null,
       "overflow_y": null,
       "padding": null,
       "right": null,
       "top": null,
       "visibility": null,
       "width": null
      }
     },
     "192440069f814da4a1d403e0d4f6e2cf": {
      "model_module": "@jupyter-widgets/controls",
      "model_module_version": "1.5.0",
      "model_name": "DescriptionStyleModel",
      "state": {
       "_model_module": "@jupyter-widgets/controls",
       "_model_module_version": "1.5.0",
       "_model_name": "DescriptionStyleModel",
       "_view_count": null,
       "_view_module": "@jupyter-widgets/base",
       "_view_module_version": "1.2.0",
       "_view_name": "StyleView",
       "description_width": ""
      }
     },
     "1a6f90667f924ba4bf2d52400c868a3c": {
      "model_module": "@jupyter-widgets/base",
      "model_module_version": "1.2.0",
      "model_name": "LayoutModel",
      "state": {
       "_model_module": "@jupyter-widgets/base",
       "_model_module_version": "1.2.0",
       "_model_name": "LayoutModel",
       "_view_count": null,
       "_view_module": "@jupyter-widgets/base",
       "_view_module_version": "1.2.0",
       "_view_name": "LayoutView",
       "align_content": null,
       "align_items": null,
       "align_self": null,
       "border": null,
       "bottom": null,
       "display": null,
       "flex": null,
       "flex_flow": null,
       "grid_area": null,
       "grid_auto_columns": null,
       "grid_auto_flow": null,
       "grid_auto_rows": null,
       "grid_column": null,
       "grid_gap": null,
       "grid_row": null,
       "grid_template_areas": null,
       "grid_template_columns": null,
       "grid_template_rows": null,
       "height": null,
       "justify_content": null,
       "justify_items": null,
       "left": null,
       "margin": null,
       "max_height": null,
       "max_width": null,
       "min_height": null,
       "min_width": null,
       "object_fit": null,
       "object_position": null,
       "order": null,
       "overflow": null,
       "overflow_x": null,
       "overflow_y": null,
       "padding": null,
       "right": null,
       "top": null,
       "visibility": null,
       "width": null
      }
     },
     "2339639dafeb47c9becc6cac24697971": {
      "model_module": "@jupyter-widgets/controls",
      "model_module_version": "1.5.0",
      "model_name": "DescriptionStyleModel",
      "state": {
       "_model_module": "@jupyter-widgets/controls",
       "_model_module_version": "1.5.0",
       "_model_name": "DescriptionStyleModel",
       "_view_count": null,
       "_view_module": "@jupyter-widgets/base",
       "_view_module_version": "1.2.0",
       "_view_name": "StyleView",
       "description_width": ""
      }
     },
     "2ab0251940b54b4b849b77037b55c264": {
      "model_module": "@jupyter-widgets/base",
      "model_module_version": "1.2.0",
      "model_name": "LayoutModel",
      "state": {
       "_model_module": "@jupyter-widgets/base",
       "_model_module_version": "1.2.0",
       "_model_name": "LayoutModel",
       "_view_count": null,
       "_view_module": "@jupyter-widgets/base",
       "_view_module_version": "1.2.0",
       "_view_name": "LayoutView",
       "align_content": null,
       "align_items": null,
       "align_self": null,
       "border": null,
       "bottom": null,
       "display": null,
       "flex": null,
       "flex_flow": null,
       "grid_area": null,
       "grid_auto_columns": null,
       "grid_auto_flow": null,
       "grid_auto_rows": null,
       "grid_column": null,
       "grid_gap": null,
       "grid_row": null,
       "grid_template_areas": null,
       "grid_template_columns": null,
       "grid_template_rows": null,
       "height": null,
       "justify_content": null,
       "justify_items": null,
       "left": null,
       "margin": null,
       "max_height": null,
       "max_width": null,
       "min_height": null,
       "min_width": null,
       "object_fit": null,
       "object_position": null,
       "order": null,
       "overflow": null,
       "overflow_x": null,
       "overflow_y": null,
       "padding": null,
       "right": null,
       "top": null,
       "visibility": null,
       "width": null
      }
     },
     "3e71afefe527462fa7556c48b5c1fd97": {
      "model_module": "@jupyter-widgets/base",
      "model_module_version": "1.2.0",
      "model_name": "LayoutModel",
      "state": {
       "_model_module": "@jupyter-widgets/base",
       "_model_module_version": "1.2.0",
       "_model_name": "LayoutModel",
       "_view_count": null,
       "_view_module": "@jupyter-widgets/base",
       "_view_module_version": "1.2.0",
       "_view_name": "LayoutView",
       "align_content": null,
       "align_items": null,
       "align_self": null,
       "border": null,
       "bottom": null,
       "display": null,
       "flex": null,
       "flex_flow": null,
       "grid_area": null,
       "grid_auto_columns": null,
       "grid_auto_flow": null,
       "grid_auto_rows": null,
       "grid_column": null,
       "grid_gap": null,
       "grid_row": null,
       "grid_template_areas": null,
       "grid_template_columns": null,
       "grid_template_rows": null,
       "height": null,
       "justify_content": null,
       "justify_items": null,
       "left": null,
       "margin": null,
       "max_height": null,
       "max_width": null,
       "min_height": null,
       "min_width": null,
       "object_fit": null,
       "object_position": null,
       "order": null,
       "overflow": null,
       "overflow_x": null,
       "overflow_y": null,
       "padding": null,
       "right": null,
       "top": null,
       "visibility": null,
       "width": null
      }
     },
     "4558ed216f8a467ba02711a8bf1f3c57": {
      "model_module": "@jupyter-widgets/base",
      "model_module_version": "1.2.0",
      "model_name": "LayoutModel",
      "state": {
       "_model_module": "@jupyter-widgets/base",
       "_model_module_version": "1.2.0",
       "_model_name": "LayoutModel",
       "_view_count": null,
       "_view_module": "@jupyter-widgets/base",
       "_view_module_version": "1.2.0",
       "_view_name": "LayoutView",
       "align_content": null,
       "align_items": null,
       "align_self": null,
       "border": null,
       "bottom": null,
       "display": null,
       "flex": null,
       "flex_flow": null,
       "grid_area": null,
       "grid_auto_columns": null,
       "grid_auto_flow": null,
       "grid_auto_rows": null,
       "grid_column": null,
       "grid_gap": null,
       "grid_row": null,
       "grid_template_areas": null,
       "grid_template_columns": null,
       "grid_template_rows": null,
       "height": null,
       "justify_content": null,
       "justify_items": null,
       "left": null,
       "margin": null,
       "max_height": null,
       "max_width": null,
       "min_height": null,
       "min_width": null,
       "object_fit": null,
       "object_position": null,
       "order": null,
       "overflow": null,
       "overflow_x": null,
       "overflow_y": null,
       "padding": null,
       "right": null,
       "top": null,
       "visibility": null,
       "width": null
      }
     },
     "48b94d4c19954ce2b3fa195beb7f6b1c": {
      "model_module": "@jupyter-widgets/controls",
      "model_module_version": "1.5.0",
      "model_name": "ProgressStyleModel",
      "state": {
       "_model_module": "@jupyter-widgets/controls",
       "_model_module_version": "1.5.0",
       "_model_name": "ProgressStyleModel",
       "_view_count": null,
       "_view_module": "@jupyter-widgets/base",
       "_view_module_version": "1.2.0",
       "_view_name": "StyleView",
       "bar_color": null,
       "description_width": ""
      }
     },
     "4a18bcdefa874f1d91e85016fe252080": {
      "model_module": "@jupyter-widgets/controls",
      "model_module_version": "1.5.0",
      "model_name": "HBoxModel",
      "state": {
       "_dom_classes": [],
       "_model_module": "@jupyter-widgets/controls",
       "_model_module_version": "1.5.0",
       "_model_name": "HBoxModel",
       "_view_count": null,
       "_view_module": "@jupyter-widgets/controls",
       "_view_module_version": "1.5.0",
       "_view_name": "HBoxView",
       "box_style": "",
       "children": [
        "IPY_MODEL_f3ddc71ab7934f2f8daffc8245296111",
        "IPY_MODEL_5e23820b3e404c329538efbcbb0a7c5e",
        "IPY_MODEL_12b4fa2039444101b9438ffea97728fd"
       ],
       "layout": "IPY_MODEL_9506b1e68ff04b08aa41457efd621649"
      }
     },
     "4ac5edeeb40f4f0f9fcf5c7f4d50dd49": {
      "model_module": "@jupyter-widgets/base",
      "model_module_version": "1.2.0",
      "model_name": "LayoutModel",
      "state": {
       "_model_module": "@jupyter-widgets/base",
       "_model_module_version": "1.2.0",
       "_model_name": "LayoutModel",
       "_view_count": null,
       "_view_module": "@jupyter-widgets/base",
       "_view_module_version": "1.2.0",
       "_view_name": "LayoutView",
       "align_content": null,
       "align_items": null,
       "align_self": null,
       "border": null,
       "bottom": null,
       "display": null,
       "flex": null,
       "flex_flow": null,
       "grid_area": null,
       "grid_auto_columns": null,
       "grid_auto_flow": null,
       "grid_auto_rows": null,
       "grid_column": null,
       "grid_gap": null,
       "grid_row": null,
       "grid_template_areas": null,
       "grid_template_columns": null,
       "grid_template_rows": null,
       "height": null,
       "justify_content": null,
       "justify_items": null,
       "left": null,
       "margin": null,
       "max_height": null,
       "max_width": null,
       "min_height": null,
       "min_width": null,
       "object_fit": null,
       "object_position": null,
       "order": null,
       "overflow": null,
       "overflow_x": null,
       "overflow_y": null,
       "padding": null,
       "right": null,
       "top": null,
       "visibility": null,
       "width": null
      }
     },
     "4bebab105cf94323ae39daa4c061aaa5": {
      "model_module": "@jupyter-widgets/controls",
      "model_module_version": "1.5.0",
      "model_name": "ProgressStyleModel",
      "state": {
       "_model_module": "@jupyter-widgets/controls",
       "_model_module_version": "1.5.0",
       "_model_name": "ProgressStyleModel",
       "_view_count": null,
       "_view_module": "@jupyter-widgets/base",
       "_view_module_version": "1.2.0",
       "_view_name": "StyleView",
       "bar_color": null,
       "description_width": ""
      }
     },
     "50f503ba7e1f43aeb19ef04d960097b2": {
      "model_module": "@jupyter-widgets/base",
      "model_module_version": "1.2.0",
      "model_name": "LayoutModel",
      "state": {
       "_model_module": "@jupyter-widgets/base",
       "_model_module_version": "1.2.0",
       "_model_name": "LayoutModel",
       "_view_count": null,
       "_view_module": "@jupyter-widgets/base",
       "_view_module_version": "1.2.0",
       "_view_name": "LayoutView",
       "align_content": null,
       "align_items": null,
       "align_self": null,
       "border": null,
       "bottom": null,
       "display": null,
       "flex": null,
       "flex_flow": null,
       "grid_area": null,
       "grid_auto_columns": null,
       "grid_auto_flow": null,
       "grid_auto_rows": null,
       "grid_column": null,
       "grid_gap": null,
       "grid_row": null,
       "grid_template_areas": null,
       "grid_template_columns": null,
       "grid_template_rows": null,
       "height": null,
       "justify_content": null,
       "justify_items": null,
       "left": null,
       "margin": null,
       "max_height": null,
       "max_width": null,
       "min_height": null,
       "min_width": null,
       "object_fit": null,
       "object_position": null,
       "order": null,
       "overflow": null,
       "overflow_x": null,
       "overflow_y": null,
       "padding": null,
       "right": null,
       "top": null,
       "visibility": null,
       "width": null
      }
     },
     "5518479ab7794d1b93cd5b9ead21fe81": {
      "model_module": "@jupyter-widgets/base",
      "model_module_version": "1.2.0",
      "model_name": "LayoutModel",
      "state": {
       "_model_module": "@jupyter-widgets/base",
       "_model_module_version": "1.2.0",
       "_model_name": "LayoutModel",
       "_view_count": null,
       "_view_module": "@jupyter-widgets/base",
       "_view_module_version": "1.2.0",
       "_view_name": "LayoutView",
       "align_content": null,
       "align_items": null,
       "align_self": null,
       "border": null,
       "bottom": null,
       "display": null,
       "flex": null,
       "flex_flow": null,
       "grid_area": null,
       "grid_auto_columns": null,
       "grid_auto_flow": null,
       "grid_auto_rows": null,
       "grid_column": null,
       "grid_gap": null,
       "grid_row": null,
       "grid_template_areas": null,
       "grid_template_columns": null,
       "grid_template_rows": null,
       "height": null,
       "justify_content": null,
       "justify_items": null,
       "left": null,
       "margin": null,
       "max_height": null,
       "max_width": null,
       "min_height": null,
       "min_width": null,
       "object_fit": null,
       "object_position": null,
       "order": null,
       "overflow": null,
       "overflow_x": null,
       "overflow_y": null,
       "padding": null,
       "right": null,
       "top": null,
       "visibility": null,
       "width": null
      }
     },
     "5e23820b3e404c329538efbcbb0a7c5e": {
      "model_module": "@jupyter-widgets/controls",
      "model_module_version": "1.5.0",
      "model_name": "FloatProgressModel",
      "state": {
       "_dom_classes": [],
       "_model_module": "@jupyter-widgets/controls",
       "_model_module_version": "1.5.0",
       "_model_name": "FloatProgressModel",
       "_view_count": null,
       "_view_module": "@jupyter-widgets/controls",
       "_view_module_version": "1.5.0",
       "_view_name": "ProgressView",
       "bar_style": "success",
       "description": "",
       "description_tooltip": null,
       "layout": "IPY_MODEL_4558ed216f8a467ba02711a8bf1f3c57",
       "max": 116270890,
       "min": 0,
       "orientation": "horizontal",
       "style": "IPY_MODEL_48b94d4c19954ce2b3fa195beb7f6b1c",
       "value": 116270890
      }
     },
     "6586d9ed9f374bff8b3e2bb91d03f067": {
      "model_module": "@jupyter-widgets/controls",
      "model_module_version": "1.5.0",
      "model_name": "HTMLModel",
      "state": {
       "_dom_classes": [],
       "_model_module": "@jupyter-widgets/controls",
       "_model_module_version": "1.5.0",
       "_model_name": "HTMLModel",
       "_view_count": null,
       "_view_module": "@jupyter-widgets/controls",
       "_view_module_version": "1.5.0",
       "_view_name": "HTMLView",
       "description": "",
       "description_tooltip": null,
       "layout": "IPY_MODEL_2ab0251940b54b4b849b77037b55c264",
       "placeholder": "​",
       "style": "IPY_MODEL_d5cea4f9acc04842bd36ac897b9dcaa8",
       "value": "vocab.txt: 100%"
      }
     },
     "871a2f5fb62d42dc8f24975fe92d0f15": {
      "model_module": "@jupyter-widgets/controls",
      "model_module_version": "1.5.0",
      "model_name": "HBoxModel",
      "state": {
       "_dom_classes": [],
       "_model_module": "@jupyter-widgets/controls",
       "_model_module_version": "1.5.0",
       "_model_name": "HBoxModel",
       "_view_count": null,
       "_view_module": "@jupyter-widgets/controls",
       "_view_module_version": "1.5.0",
       "_view_name": "HBoxView",
       "box_style": "",
       "children": [
        "IPY_MODEL_ced663561e104b6fb4b43756c09b7529",
        "IPY_MODEL_b110aa48721949bb916d13d4a3d3337c",
        "IPY_MODEL_16e9b2e00a5e41d6934fc96edbbbca18"
       ],
       "layout": "IPY_MODEL_c6f3e8a0a7e84197a8b005b111625c1d"
      }
     },
     "9506b1e68ff04b08aa41457efd621649": {
      "model_module": "@jupyter-widgets/base",
      "model_module_version": "1.2.0",
      "model_name": "LayoutModel",
      "state": {
       "_model_module": "@jupyter-widgets/base",
       "_model_module_version": "1.2.0",
       "_model_name": "LayoutModel",
       "_view_count": null,
       "_view_module": "@jupyter-widgets/base",
       "_view_module_version": "1.2.0",
       "_view_name": "LayoutView",
       "align_content": null,
       "align_items": null,
       "align_self": null,
       "border": null,
       "bottom": null,
       "display": null,
       "flex": null,
       "flex_flow": null,
       "grid_area": null,
       "grid_auto_columns": null,
       "grid_auto_flow": null,
       "grid_auto_rows": null,
       "grid_column": null,
       "grid_gap": null,
       "grid_row": null,
       "grid_template_areas": null,
       "grid_template_columns": null,
       "grid_template_rows": null,
       "height": null,
       "justify_content": null,
       "justify_items": null,
       "left": null,
       "margin": null,
       "max_height": null,
       "max_width": null,
       "min_height": null,
       "min_width": null,
       "object_fit": null,
       "object_position": null,
       "order": null,
       "overflow": null,
       "overflow_x": null,
       "overflow_y": null,
       "padding": null,
       "right": null,
       "top": null,
       "visibility": null,
       "width": null
      }
     },
     "99a884fd60c5495582ba5fc9bfab2ccf": {
      "model_module": "@jupyter-widgets/controls",
      "model_module_version": "1.5.0",
      "model_name": "HBoxModel",
      "state": {
       "_dom_classes": [],
       "_model_module": "@jupyter-widgets/controls",
       "_model_module_version": "1.5.0",
       "_model_name": "HBoxModel",
       "_view_count": null,
       "_view_module": "@jupyter-widgets/controls",
       "_view_module_version": "1.5.0",
       "_view_name": "HBoxView",
       "box_style": "",
       "children": [
        "IPY_MODEL_6586d9ed9f374bff8b3e2bb91d03f067",
        "IPY_MODEL_eaa2da3311b347c2aedd60b315b22c7b",
        "IPY_MODEL_fc1ddf1e143e439b96e44e0f8e46cde6"
       ],
       "layout": "IPY_MODEL_50f503ba7e1f43aeb19ef04d960097b2"
      }
     },
     "acf98b1a8a384467964cde37da57d899": {
      "model_module": "@jupyter-widgets/controls",
      "model_module_version": "1.5.0",
      "model_name": "DescriptionStyleModel",
      "state": {
       "_model_module": "@jupyter-widgets/controls",
       "_model_module_version": "1.5.0",
       "_model_name": "DescriptionStyleModel",
       "_view_count": null,
       "_view_module": "@jupyter-widgets/base",
       "_view_module_version": "1.2.0",
       "_view_name": "StyleView",
       "description_width": ""
      }
     },
     "b110aa48721949bb916d13d4a3d3337c": {
      "model_module": "@jupyter-widgets/controls",
      "model_module_version": "1.5.0",
      "model_name": "FloatProgressModel",
      "state": {
       "_dom_classes": [],
       "_model_module": "@jupyter-widgets/controls",
       "_model_module_version": "1.5.0",
       "_model_name": "FloatProgressModel",
       "_view_count": null,
       "_view_module": "@jupyter-widgets/controls",
       "_view_module_version": "1.5.0",
       "_view_name": "ProgressView",
       "bar_style": "success",
       "description": "",
       "description_tooltip": null,
       "layout": "IPY_MODEL_4ac5edeeb40f4f0f9fcf5c7f4d50dd49",
       "max": 286,
       "min": 0,
       "orientation": "horizontal",
       "style": "IPY_MODEL_106a13507cff4813b3a1a1280725a81e",
       "value": 286
      }
     },
     "c6f3e8a0a7e84197a8b005b111625c1d": {
      "model_module": "@jupyter-widgets/base",
      "model_module_version": "1.2.0",
      "model_name": "LayoutModel",
      "state": {
       "_model_module": "@jupyter-widgets/base",
       "_model_module_version": "1.2.0",
       "_model_name": "LayoutModel",
       "_view_count": null,
       "_view_module": "@jupyter-widgets/base",
       "_view_module_version": "1.2.0",
       "_view_name": "LayoutView",
       "align_content": null,
       "align_items": null,
       "align_self": null,
       "border": null,
       "bottom": null,
       "display": null,
       "flex": null,
       "flex_flow": null,
       "grid_area": null,
       "grid_auto_columns": null,
       "grid_auto_flow": null,
       "grid_auto_rows": null,
       "grid_column": null,
       "grid_gap": null,
       "grid_row": null,
       "grid_template_areas": null,
       "grid_template_columns": null,
       "grid_template_rows": null,
       "height": null,
       "justify_content": null,
       "justify_items": null,
       "left": null,
       "margin": null,
       "max_height": null,
       "max_width": null,
       "min_height": null,
       "min_width": null,
       "object_fit": null,
       "object_position": null,
       "order": null,
       "overflow": null,
       "overflow_x": null,
       "overflow_y": null,
       "padding": null,
       "right": null,
       "top": null,
       "visibility": null,
       "width": null
      }
     },
     "ced663561e104b6fb4b43756c09b7529": {
      "model_module": "@jupyter-widgets/controls",
      "model_module_version": "1.5.0",
      "model_name": "HTMLModel",
      "state": {
       "_dom_classes": [],
       "_model_module": "@jupyter-widgets/controls",
       "_model_module_version": "1.5.0",
       "_model_name": "HTMLModel",
       "_view_count": null,
       "_view_module": "@jupyter-widgets/controls",
       "_view_module_version": "1.5.0",
       "_view_name": "HTMLView",
       "description": "",
       "description_tooltip": null,
       "layout": "IPY_MODEL_3e71afefe527462fa7556c48b5c1fd97",
       "placeholder": "​",
       "style": "IPY_MODEL_0aa32715a29a4f0999f585284bac429b",
       "value": "config.json: 100%"
      }
     },
     "d20b3ea30e1c47039719581a41e288ea": {
      "model_module": "@jupyter-widgets/base",
      "model_module_version": "1.2.0",
      "model_name": "LayoutModel",
      "state": {
       "_model_module": "@jupyter-widgets/base",
       "_model_module_version": "1.2.0",
       "_model_name": "LayoutModel",
       "_view_count": null,
       "_view_module": "@jupyter-widgets/base",
       "_view_module_version": "1.2.0",
       "_view_name": "LayoutView",
       "align_content": null,
       "align_items": null,
       "align_self": null,
       "border": null,
       "bottom": null,
       "display": null,
       "flex": null,
       "flex_flow": null,
       "grid_area": null,
       "grid_auto_columns": null,
       "grid_auto_flow": null,
       "grid_auto_rows": null,
       "grid_column": null,
       "grid_gap": null,
       "grid_row": null,
       "grid_template_areas": null,
       "grid_template_columns": null,
       "grid_template_rows": null,
       "height": null,
       "justify_content": null,
       "justify_items": null,
       "left": null,
       "margin": null,
       "max_height": null,
       "max_width": null,
       "min_height": null,
       "min_width": null,
       "object_fit": null,
       "object_position": null,
       "order": null,
       "overflow": null,
       "overflow_x": null,
       "overflow_y": null,
       "padding": null,
       "right": null,
       "top": null,
       "visibility": null,
       "width": null
      }
     },
     "d5cea4f9acc04842bd36ac897b9dcaa8": {
      "model_module": "@jupyter-widgets/controls",
      "model_module_version": "1.5.0",
      "model_name": "DescriptionStyleModel",
      "state": {
       "_model_module": "@jupyter-widgets/controls",
       "_model_module_version": "1.5.0",
       "_model_name": "DescriptionStyleModel",
       "_view_count": null,
       "_view_module": "@jupyter-widgets/base",
       "_view_module_version": "1.2.0",
       "_view_name": "StyleView",
       "description_width": ""
      }
     },
     "e5ca16f1d4ed4e688dcf64e115c04987": {
      "model_module": "@jupyter-widgets/controls",
      "model_module_version": "1.5.0",
      "model_name": "DescriptionStyleModel",
      "state": {
       "_model_module": "@jupyter-widgets/controls",
       "_model_module_version": "1.5.0",
       "_model_name": "DescriptionStyleModel",
       "_view_count": null,
       "_view_module": "@jupyter-widgets/base",
       "_view_module_version": "1.2.0",
       "_view_name": "StyleView",
       "description_width": ""
      }
     },
     "eaa2da3311b347c2aedd60b315b22c7b": {
      "model_module": "@jupyter-widgets/controls",
      "model_module_version": "1.5.0",
      "model_name": "FloatProgressModel",
      "state": {
       "_dom_classes": [],
       "_model_module": "@jupyter-widgets/controls",
       "_model_module_version": "1.5.0",
       "_model_name": "FloatProgressModel",
       "_view_count": null,
       "_view_module": "@jupyter-widgets/controls",
       "_view_module_version": "1.5.0",
       "_view_name": "ProgressView",
       "bar_style": "success",
       "description": "",
       "description_tooltip": null,
       "layout": "IPY_MODEL_d20b3ea30e1c47039719581a41e288ea",
       "max": 231508,
       "min": 0,
       "orientation": "horizontal",
       "style": "IPY_MODEL_4bebab105cf94323ae39daa4c061aaa5",
       "value": 231508
      }
     },
     "f0131c99178344ee8da75192c8733b97": {
      "model_module": "@jupyter-widgets/base",
      "model_module_version": "1.2.0",
      "model_name": "LayoutModel",
      "state": {
       "_model_module": "@jupyter-widgets/base",
       "_model_module_version": "1.2.0",
       "_model_name": "LayoutModel",
       "_view_count": null,
       "_view_module": "@jupyter-widgets/base",
       "_view_module_version": "1.2.0",
       "_view_name": "LayoutView",
       "align_content": null,
       "align_items": null,
       "align_self": null,
       "border": null,
       "bottom": null,
       "display": null,
       "flex": null,
       "flex_flow": null,
       "grid_area": null,
       "grid_auto_columns": null,
       "grid_auto_flow": null,
       "grid_auto_rows": null,
       "grid_column": null,
       "grid_gap": null,
       "grid_row": null,
       "grid_template_areas": null,
       "grid_template_columns": null,
       "grid_template_rows": null,
       "height": null,
       "justify_content": null,
       "justify_items": null,
       "left": null,
       "margin": null,
       "max_height": null,
       "max_width": null,
       "min_height": null,
       "min_width": null,
       "object_fit": null,
       "object_position": null,
       "order": null,
       "overflow": null,
       "overflow_x": null,
       "overflow_y": null,
       "padding": null,
       "right": null,
       "top": null,
       "visibility": null,
       "width": null
      }
     },
     "f3ddc71ab7934f2f8daffc8245296111": {
      "model_module": "@jupyter-widgets/controls",
      "model_module_version": "1.5.0",
      "model_name": "HTMLModel",
      "state": {
       "_dom_classes": [],
       "_model_module": "@jupyter-widgets/controls",
       "_model_module_version": "1.5.0",
       "_model_name": "HTMLModel",
       "_view_count": null,
       "_view_module": "@jupyter-widgets/controls",
       "_view_module_version": "1.5.0",
       "_view_name": "HTMLView",
       "description": "",
       "description_tooltip": null,
       "layout": "IPY_MODEL_177bc4f6fbdf4c9bbecd29eb2da54f98",
       "placeholder": "​",
       "style": "IPY_MODEL_e5ca16f1d4ed4e688dcf64e115c04987",
       "value": "pytorch_model.bin: 100%"
      }
     },
     "fc1ddf1e143e439b96e44e0f8e46cde6": {
      "model_module": "@jupyter-widgets/controls",
      "model_module_version": "1.5.0",
      "model_name": "HTMLModel",
      "state": {
       "_dom_classes": [],
       "_model_module": "@jupyter-widgets/controls",
       "_model_module_version": "1.5.0",
       "_model_name": "HTMLModel",
       "_view_count": null,
       "_view_module": "@jupyter-widgets/controls",
       "_view_module_version": "1.5.0",
       "_view_name": "HTMLView",
       "description": "",
       "description_tooltip": null,
       "layout": "IPY_MODEL_5518479ab7794d1b93cd5b9ead21fe81",
       "placeholder": "​",
       "style": "IPY_MODEL_192440069f814da4a1d403e0d4f6e2cf",
       "value": " 232k/232k [00:00&lt;00:00, 4.57MB/s]"
      }
     }
    },
    "version_major": 2,
    "version_minor": 0
   }
  }
 },
 "nbformat": 4,
 "nbformat_minor": 5
}
