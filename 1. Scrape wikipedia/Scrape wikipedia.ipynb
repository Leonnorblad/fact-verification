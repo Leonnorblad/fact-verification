{
 "cells": [
  {
   "cell_type": "markdown",
   "metadata": {},
   "source": [
    "# **Scrape Wikipedia articles and create summaries**\n",
    "- 2600 randomly selected Wikipedia articles are scraped. \n",
    "- A short summary, the first few sentences of the article is then created (later used as evidence).\n",
    "- 2000 samples are then saved"
   ]
  },
  {
   "cell_type": "markdown",
   "metadata": {},
   "source": [
    "### **Imports**"
   ]
  },
  {
   "cell_type": "code",
   "execution_count": 1,
   "metadata": {},
   "outputs": [],
   "source": [
    "# Functions from my other script:\n",
    "from scrape_wiki import scrape_data, count_tokens, short_summary\n",
    "# Other packages:\n",
    "import pandas as pd"
   ]
  },
  {
   "cell_type": "markdown",
   "metadata": {},
   "source": [
    "### **Scrape wikipeda articles**\n",
    "2600 randomly selected articles was scraped. This number was chosen to garantee 2000 samples after claning."
   ]
  },
  {
   "cell_type": "code",
   "execution_count": 2,
   "metadata": {},
   "outputs": [],
   "source": [
    "scraped_wiki = scrape_data(2600)\n",
    "scraped_wiki.to_csv(\"wikipedia_articles.csv\", index=False)"
   ]
  },
  {
   "cell_type": "markdown",
   "metadata": {},
   "source": [
    "### **Clean scraped data**"
   ]
  },
  {
   "cell_type": "code",
   "execution_count": 3,
   "metadata": {},
   "outputs": [
    {
     "name": "stdout",
     "output_type": "stream",
     "text": [
      "Shape of scraped data (2600, 2)\n"
     ]
    },
    {
     "data": {
      "text/html": [
       "<div>\n",
       "<style scoped>\n",
       "    .dataframe tbody tr th:only-of-type {\n",
       "        vertical-align: middle;\n",
       "    }\n",
       "\n",
       "    .dataframe tbody tr th {\n",
       "        vertical-align: top;\n",
       "    }\n",
       "\n",
       "    .dataframe thead th {\n",
       "        text-align: right;\n",
       "    }\n",
       "</style>\n",
       "<table border=\"1\" class=\"dataframe\">\n",
       "  <thead>\n",
       "    <tr style=\"text-align: right;\">\n",
       "      <th></th>\n",
       "      <th>Title</th>\n",
       "      <th>Article</th>\n",
       "    </tr>\n",
       "  </thead>\n",
       "  <tbody>\n",
       "    <tr>\n",
       "      <th>0</th>\n",
       "      <td>USS SC-40</td>\n",
       "      <td>USS SC-40, until July 1920 known as USS Submar...</td>\n",
       "    </tr>\n",
       "    <tr>\n",
       "      <th>1</th>\n",
       "      <td>Valentina Zenere</td>\n",
       "      <td>Valentina Zenere  (born 15 January 1997) is an...</td>\n",
       "    </tr>\n",
       "    <tr>\n",
       "      <th>2</th>\n",
       "      <td>From M.E. to Myself</td>\n",
       "      <td>From M.E. to Myself (simplified Chinese: 和自己对话...</td>\n",
       "    </tr>\n",
       "    <tr>\n",
       "      <th>3</th>\n",
       "      <td>Charalampos Papaioannou</td>\n",
       "      <td>Charalampos Papaioannou (born January 4, 1971)...</td>\n",
       "    </tr>\n",
       "    <tr>\n",
       "      <th>4</th>\n",
       "      <td>First United Methodist Church (Aberdeen, South...</td>\n",
       "      <td>Aberdeen First United Methodist Church is a hi...</td>\n",
       "    </tr>\n",
       "  </tbody>\n",
       "</table>\n",
       "</div>"
      ],
      "text/plain": [
       "                                               Title  \\\n",
       "0                                          USS SC-40   \n",
       "1                                   Valentina Zenere   \n",
       "2                                From M.E. to Myself   \n",
       "3                            Charalampos Papaioannou   \n",
       "4  First United Methodist Church (Aberdeen, South...   \n",
       "\n",
       "                                             Article  \n",
       "0  USS SC-40, until July 1920 known as USS Submar...  \n",
       "1  Valentina Zenere  (born 15 January 1997) is an...  \n",
       "2  From M.E. to Myself (simplified Chinese: 和自己对话...  \n",
       "3  Charalampos Papaioannou (born January 4, 1971)...  \n",
       "4  Aberdeen First United Methodist Church is a hi...  "
      ]
     },
     "execution_count": 3,
     "metadata": {},
     "output_type": "execute_result"
    }
   ],
   "source": [
    "# Scraped data, without preprocessing\n",
    "#scraped_wiki = pd.read_csv(\"wikipedia_articles.csv\")\n",
    "print(f\"Shape of scraped data {scraped_wiki.shape}\")\n",
    "scraped_wiki.head()"
   ]
  },
  {
   "cell_type": "markdown",
   "metadata": {},
   "source": [
    "### **Drop missing values**"
   ]
  },
  {
   "cell_type": "code",
   "execution_count": 4,
   "metadata": {},
   "outputs": [
    {
     "name": "stdout",
     "output_type": "stream",
     "text": [
      "Shape of data without missing values (2598, 2)\n"
     ]
    }
   ],
   "source": [
    "scraped_wiki = scraped_wiki.dropna()\n",
    "print(f\"Shape of data without missing values {scraped_wiki.shape}\")\n",
    "# 2 missing values"
   ]
  },
  {
   "cell_type": "markdown",
   "metadata": {},
   "source": [
    "### **Tokens per article**\n",
    "Add new column: Number of tokens per article"
   ]
  },
  {
   "cell_type": "code",
   "execution_count": 5,
   "metadata": {},
   "outputs": [
    {
     "data": {
      "text/html": [
       "<div>\n",
       "<style scoped>\n",
       "    .dataframe tbody tr th:only-of-type {\n",
       "        vertical-align: middle;\n",
       "    }\n",
       "\n",
       "    .dataframe tbody tr th {\n",
       "        vertical-align: top;\n",
       "    }\n",
       "\n",
       "    .dataframe thead th {\n",
       "        text-align: right;\n",
       "    }\n",
       "</style>\n",
       "<table border=\"1\" class=\"dataframe\">\n",
       "  <thead>\n",
       "    <tr style=\"text-align: right;\">\n",
       "      <th></th>\n",
       "      <th>Title</th>\n",
       "      <th>Article</th>\n",
       "      <th>Article tokens</th>\n",
       "    </tr>\n",
       "  </thead>\n",
       "  <tbody>\n",
       "    <tr>\n",
       "      <th>0</th>\n",
       "      <td>USS SC-40</td>\n",
       "      <td>USS SC-40, until July 1920 known as USS Submar...</td>\n",
       "      <td>337</td>\n",
       "    </tr>\n",
       "    <tr>\n",
       "      <th>1</th>\n",
       "      <td>Valentina Zenere</td>\n",
       "      <td>Valentina Zenere  (born 15 January 1997) is an...</td>\n",
       "      <td>478</td>\n",
       "    </tr>\n",
       "    <tr>\n",
       "      <th>2</th>\n",
       "      <td>From M.E. to Myself</td>\n",
       "      <td>From M.E. to Myself (simplified Chinese: 和自己对话...</td>\n",
       "      <td>92</td>\n",
       "    </tr>\n",
       "    <tr>\n",
       "      <th>3</th>\n",
       "      <td>Charalampos Papaioannou</td>\n",
       "      <td>Charalampos Papaioannou (born January 4, 1971)...</td>\n",
       "      <td>43</td>\n",
       "    </tr>\n",
       "    <tr>\n",
       "      <th>4</th>\n",
       "      <td>First United Methodist Church (Aberdeen, South...</td>\n",
       "      <td>Aberdeen First United Methodist Church is a hi...</td>\n",
       "      <td>87</td>\n",
       "    </tr>\n",
       "  </tbody>\n",
       "</table>\n",
       "</div>"
      ],
      "text/plain": [
       "                                               Title  \\\n",
       "0                                          USS SC-40   \n",
       "1                                   Valentina Zenere   \n",
       "2                                From M.E. to Myself   \n",
       "3                            Charalampos Papaioannou   \n",
       "4  First United Methodist Church (Aberdeen, South...   \n",
       "\n",
       "                                             Article  Article tokens  \n",
       "0  USS SC-40, until July 1920 known as USS Submar...             337  \n",
       "1  Valentina Zenere  (born 15 January 1997) is an...             478  \n",
       "2  From M.E. to Myself (simplified Chinese: 和自己对话...              92  \n",
       "3  Charalampos Papaioannou (born January 4, 1971)...              43  \n",
       "4  Aberdeen First United Methodist Church is a hi...              87  "
      ]
     },
     "execution_count": 5,
     "metadata": {},
     "output_type": "execute_result"
    }
   ],
   "source": [
    "scraped_wiki[\"Article tokens\"] = scraped_wiki[\"Article\"].apply(count_tokens)\n",
    "scraped_wiki.head()"
   ]
  },
  {
   "cell_type": "markdown",
   "metadata": {},
   "source": [
    "### **Short summary**\n",
    "Create new column: Short summary with max 100 tokens (min 20)"
   ]
  },
  {
   "cell_type": "code",
   "execution_count": 6,
   "metadata": {},
   "outputs": [
    {
     "data": {
      "text/html": [
       "<div>\n",
       "<style scoped>\n",
       "    .dataframe tbody tr th:only-of-type {\n",
       "        vertical-align: middle;\n",
       "    }\n",
       "\n",
       "    .dataframe tbody tr th {\n",
       "        vertical-align: top;\n",
       "    }\n",
       "\n",
       "    .dataframe thead th {\n",
       "        text-align: right;\n",
       "    }\n",
       "</style>\n",
       "<table border=\"1\" class=\"dataframe\">\n",
       "  <thead>\n",
       "    <tr style=\"text-align: right;\">\n",
       "      <th></th>\n",
       "      <th>Title</th>\n",
       "      <th>Article</th>\n",
       "      <th>Article tokens</th>\n",
       "      <th>Summary</th>\n",
       "    </tr>\n",
       "  </thead>\n",
       "  <tbody>\n",
       "    <tr>\n",
       "      <th>0</th>\n",
       "      <td>USS SC-40</td>\n",
       "      <td>USS SC-40, until July 1920 known as USS Submar...</td>\n",
       "      <td>337</td>\n",
       "      <td>USS SC-40, until July 1920 known as USS Submar...</td>\n",
       "    </tr>\n",
       "    <tr>\n",
       "      <th>1</th>\n",
       "      <td>Valentina Zenere</td>\n",
       "      <td>Valentina Zenere  (born 15 January 1997) is an...</td>\n",
       "      <td>478</td>\n",
       "      <td>Valentina Zenere  (born 15 January 1997) is an...</td>\n",
       "    </tr>\n",
       "    <tr>\n",
       "      <th>2</th>\n",
       "      <td>From M.E. to Myself</td>\n",
       "      <td>From M.E. to Myself (simplified Chinese: 和自己对话...</td>\n",
       "      <td>92</td>\n",
       "      <td>From M.E. to Myself (simplified Chinese: 和自己对话...</td>\n",
       "    </tr>\n",
       "    <tr>\n",
       "      <th>3</th>\n",
       "      <td>Charalampos Papaioannou</td>\n",
       "      <td>Charalampos Papaioannou (born January 4, 1971)...</td>\n",
       "      <td>43</td>\n",
       "      <td>Charalampos Papaioannou (born January 4, 1971)...</td>\n",
       "    </tr>\n",
       "    <tr>\n",
       "      <th>4</th>\n",
       "      <td>First United Methodist Church (Aberdeen, South...</td>\n",
       "      <td>Aberdeen First United Methodist Church is a hi...</td>\n",
       "      <td>87</td>\n",
       "      <td>Aberdeen First United Methodist Church is a hi...</td>\n",
       "    </tr>\n",
       "  </tbody>\n",
       "</table>\n",
       "</div>"
      ],
      "text/plain": [
       "                                               Title  \\\n",
       "0                                          USS SC-40   \n",
       "1                                   Valentina Zenere   \n",
       "2                                From M.E. to Myself   \n",
       "3                            Charalampos Papaioannou   \n",
       "4  First United Methodist Church (Aberdeen, South...   \n",
       "\n",
       "                                             Article  Article tokens  \\\n",
       "0  USS SC-40, until July 1920 known as USS Submar...             337   \n",
       "1  Valentina Zenere  (born 15 January 1997) is an...             478   \n",
       "2  From M.E. to Myself (simplified Chinese: 和自己对话...              92   \n",
       "3  Charalampos Papaioannou (born January 4, 1971)...              43   \n",
       "4  Aberdeen First United Methodist Church is a hi...              87   \n",
       "\n",
       "                                             Summary  \n",
       "0  USS SC-40, until July 1920 known as USS Submar...  \n",
       "1  Valentina Zenere  (born 15 January 1997) is an...  \n",
       "2  From M.E. to Myself (simplified Chinese: 和自己对话...  \n",
       "3  Charalampos Papaioannou (born January 4, 1971)...  \n",
       "4  Aberdeen First United Methodist Church is a hi...  "
      ]
     },
     "execution_count": 6,
     "metadata": {},
     "output_type": "execute_result"
    }
   ],
   "source": [
    "scraped_wiki[\"Summary\"] = scraped_wiki[\"Article\"].apply(short_summary)\n",
    "scraped_wiki.head()"
   ]
  },
  {
   "cell_type": "code",
   "execution_count": 8,
   "metadata": {},
   "outputs": [
    {
     "name": "stdout",
     "output_type": "stream",
     "text": [
      "Data now consists of 2559 rows\n"
     ]
    }
   ],
   "source": [
    "# Drop na, created by to long first sentence in short_summary()\n",
    "scraped_wiki = scraped_wiki.dropna()\n",
    "print(f\"Data now consists of {scraped_wiki.shape[0]} rows\")"
   ]
  },
  {
   "cell_type": "code",
   "execution_count": 9,
   "metadata": {},
   "outputs": [
    {
     "data": {
      "text/html": [
       "<div>\n",
       "<style scoped>\n",
       "    .dataframe tbody tr th:only-of-type {\n",
       "        vertical-align: middle;\n",
       "    }\n",
       "\n",
       "    .dataframe tbody tr th {\n",
       "        vertical-align: top;\n",
       "    }\n",
       "\n",
       "    .dataframe thead th {\n",
       "        text-align: right;\n",
       "    }\n",
       "</style>\n",
       "<table border=\"1\" class=\"dataframe\">\n",
       "  <thead>\n",
       "    <tr style=\"text-align: right;\">\n",
       "      <th></th>\n",
       "      <th>Title</th>\n",
       "      <th>Article</th>\n",
       "      <th>Article tokens</th>\n",
       "      <th>Summary</th>\n",
       "      <th>Summary tokens</th>\n",
       "    </tr>\n",
       "  </thead>\n",
       "  <tbody>\n",
       "    <tr>\n",
       "      <th>0</th>\n",
       "      <td>USS SC-40</td>\n",
       "      <td>USS SC-40, until July 1920 known as USS Submar...</td>\n",
       "      <td>337</td>\n",
       "      <td>USS SC-40, until July 1920 known as USS Submar...</td>\n",
       "      <td>81</td>\n",
       "    </tr>\n",
       "    <tr>\n",
       "      <th>1</th>\n",
       "      <td>Valentina Zenere</td>\n",
       "      <td>Valentina Zenere  (born 15 January 1997) is an...</td>\n",
       "      <td>478</td>\n",
       "      <td>Valentina Zenere  (born 15 January 1997) is an...</td>\n",
       "      <td>87</td>\n",
       "    </tr>\n",
       "    <tr>\n",
       "      <th>2</th>\n",
       "      <td>From M.E. to Myself</td>\n",
       "      <td>From M.E. to Myself (simplified Chinese: 和自己对话...</td>\n",
       "      <td>92</td>\n",
       "      <td>From M.E. to Myself (simplified Chinese: 和自己对话...</td>\n",
       "      <td>93</td>\n",
       "    </tr>\n",
       "    <tr>\n",
       "      <th>3</th>\n",
       "      <td>Charalampos Papaioannou</td>\n",
       "      <td>Charalampos Papaioannou (born January 4, 1971)...</td>\n",
       "      <td>43</td>\n",
       "      <td>Charalampos Papaioannou (born January 4, 1971)...</td>\n",
       "      <td>43</td>\n",
       "    </tr>\n",
       "    <tr>\n",
       "      <th>4</th>\n",
       "      <td>First United Methodist Church (Aberdeen, South...</td>\n",
       "      <td>Aberdeen First United Methodist Church is a hi...</td>\n",
       "      <td>87</td>\n",
       "      <td>Aberdeen First United Methodist Church is a hi...</td>\n",
       "      <td>89</td>\n",
       "    </tr>\n",
       "  </tbody>\n",
       "</table>\n",
       "</div>"
      ],
      "text/plain": [
       "                                               Title  \\\n",
       "0                                          USS SC-40   \n",
       "1                                   Valentina Zenere   \n",
       "2                                From M.E. to Myself   \n",
       "3                            Charalampos Papaioannou   \n",
       "4  First United Methodist Church (Aberdeen, South...   \n",
       "\n",
       "                                             Article  Article tokens  \\\n",
       "0  USS SC-40, until July 1920 known as USS Submar...             337   \n",
       "1  Valentina Zenere  (born 15 January 1997) is an...             478   \n",
       "2  From M.E. to Myself (simplified Chinese: 和自己对话...              92   \n",
       "3  Charalampos Papaioannou (born January 4, 1971)...              43   \n",
       "4  Aberdeen First United Methodist Church is a hi...              87   \n",
       "\n",
       "                                             Summary  Summary tokens  \n",
       "0  USS SC-40, until July 1920 known as USS Submar...              81  \n",
       "1  Valentina Zenere  (born 15 January 1997) is an...              87  \n",
       "2  From M.E. to Myself (simplified Chinese: 和自己对话...              93  \n",
       "3  Charalampos Papaioannou (born January 4, 1971)...              43  \n",
       "4  Aberdeen First United Methodist Church is a hi...              89  "
      ]
     },
     "execution_count": 9,
     "metadata": {},
     "output_type": "execute_result"
    }
   ],
   "source": [
    "# To check that the summaries have the right length we find the number of tokens in summary\n",
    "scraped_wiki[\"Summary tokens\"] = scraped_wiki[\"Summary\"].apply(count_tokens)\n",
    "scraped_wiki.head()"
   ]
  },
  {
   "cell_type": "markdown",
   "metadata": {},
   "source": [
    "### **Check for dublicates**\n",
    "Since the articles are randomly sampled from all wikipedia articles, the risk of having dublicates is very small. But we check it anyway!"
   ]
  },
  {
   "cell_type": "code",
   "execution_count": 10,
   "metadata": {},
   "outputs": [
    {
     "name": "stdout",
     "output_type": "stream",
     "text": [
      "Number of dublicates in data: 0\n"
     ]
    }
   ],
   "source": [
    "num_dub = scraped_wiki.duplicated(subset=[\"Title\"]).sum()\n",
    "print(f\"Number of dublicates in data: {num_dub}\")"
   ]
  },
  {
   "cell_type": "markdown",
   "metadata": {},
   "source": [
    "### **Look at the final dataset**"
   ]
  },
  {
   "cell_type": "code",
   "execution_count": 17,
   "metadata": {},
   "outputs": [
    {
     "data": {
      "text/html": [
       "<div>\n",
       "<style scoped>\n",
       "    .dataframe tbody tr th:only-of-type {\n",
       "        vertical-align: middle;\n",
       "    }\n",
       "\n",
       "    .dataframe tbody tr th {\n",
       "        vertical-align: top;\n",
       "    }\n",
       "\n",
       "    .dataframe thead th {\n",
       "        text-align: right;\n",
       "    }\n",
       "</style>\n",
       "<table border=\"1\" class=\"dataframe\">\n",
       "  <thead>\n",
       "    <tr style=\"text-align: right;\">\n",
       "      <th></th>\n",
       "      <th>Title</th>\n",
       "      <th>Summary</th>\n",
       "      <th>Summary tokens</th>\n",
       "    </tr>\n",
       "  </thead>\n",
       "  <tbody>\n",
       "    <tr>\n",
       "      <th>0</th>\n",
       "      <td>Mordellistena rayi</td>\n",
       "      <td>Mordellistena rayi is a species of beetle in t...</td>\n",
       "      <td>21</td>\n",
       "    </tr>\n",
       "    <tr>\n",
       "      <th>1</th>\n",
       "      <td>Bradley (automobile)</td>\n",
       "      <td>The Bradley was an automobile manufactured in ...</td>\n",
       "      <td>21</td>\n",
       "    </tr>\n",
       "    <tr>\n",
       "      <th>2</th>\n",
       "      <td>List of awards and nominations received by Chr...</td>\n",
       "      <td>Christopher Walken (born March 31, 1943) is an...</td>\n",
       "      <td>22</td>\n",
       "    </tr>\n",
       "    <tr>\n",
       "      <th>3</th>\n",
       "      <td>Bloc Québécois candidates in the 2015 Canadian...</td>\n",
       "      <td>This is a list of nominated candidates for the...</td>\n",
       "      <td>23</td>\n",
       "    </tr>\n",
       "    <tr>\n",
       "      <th>4</th>\n",
       "      <td>Shrout, Kentucky</td>\n",
       "      <td>Shrout is an unincorporated community located ...</td>\n",
       "      <td>23</td>\n",
       "    </tr>\n",
       "    <tr>\n",
       "      <th>1995</th>\n",
       "      <td>The Dead Authors Podcast</td>\n",
       "      <td>The Dead Authors Podcast is an improvised come...</td>\n",
       "      <td>100</td>\n",
       "    </tr>\n",
       "    <tr>\n",
       "      <th>1996</th>\n",
       "      <td>Ludwig Julius Budge</td>\n",
       "      <td>Ludwig Julius Budge (11 September 1811, in Wet...</td>\n",
       "      <td>100</td>\n",
       "    </tr>\n",
       "    <tr>\n",
       "      <th>1997</th>\n",
       "      <td>Fabian Dawkins</td>\n",
       "      <td>Fabian Dawkins (born 7 February 1981) is a Jam...</td>\n",
       "      <td>100</td>\n",
       "    </tr>\n",
       "    <tr>\n",
       "      <th>1998</th>\n",
       "      <td>Lady Bardales</td>\n",
       "      <td>Lady Bardales (born November 29, 1982) is a Pe...</td>\n",
       "      <td>100</td>\n",
       "    </tr>\n",
       "    <tr>\n",
       "      <th>1999</th>\n",
       "      <td>Taggart Siegel</td>\n",
       "      <td>Taggart Siegel is an American documentary film...</td>\n",
       "      <td>100</td>\n",
       "    </tr>\n",
       "  </tbody>\n",
       "</table>\n",
       "</div>"
      ],
      "text/plain": [
       "                                                  Title  \\\n",
       "0                                    Mordellistena rayi   \n",
       "1                                  Bradley (automobile)   \n",
       "2     List of awards and nominations received by Chr...   \n",
       "3     Bloc Québécois candidates in the 2015 Canadian...   \n",
       "4                                      Shrout, Kentucky   \n",
       "1995                           The Dead Authors Podcast   \n",
       "1996                                Ludwig Julius Budge   \n",
       "1997                                     Fabian Dawkins   \n",
       "1998                                      Lady Bardales   \n",
       "1999                                     Taggart Siegel   \n",
       "\n",
       "                                                Summary  Summary tokens  \n",
       "0     Mordellistena rayi is a species of beetle in t...              21  \n",
       "1     The Bradley was an automobile manufactured in ...              21  \n",
       "2     Christopher Walken (born March 31, 1943) is an...              22  \n",
       "3     This is a list of nominated candidates for the...              23  \n",
       "4     Shrout is an unincorporated community located ...              23  \n",
       "1995  The Dead Authors Podcast is an improvised come...             100  \n",
       "1996  Ludwig Julius Budge (11 September 1811, in Wet...             100  \n",
       "1997  Fabian Dawkins (born 7 February 1981) is a Jam...             100  \n",
       "1998  Lady Bardales (born November 29, 1982) is a Pe...             100  \n",
       "1999  Taggart Siegel is an American documentary film...             100  "
      ]
     },
     "execution_count": 17,
     "metadata": {},
     "output_type": "execute_result"
    }
   ],
   "source": [
    "sorted_scraped_wiki = scraped_wiki.sort_values(by='Summary tokens').reset_index(drop=True)[[\"Title\", \"Summary\", \"Summary tokens\"]]\n",
    "# Longest and shortest summaires\n",
    "pd.concat([sorted_scraped_wiki.head(), sorted_scraped_wiki.tail()])"
   ]
  },
  {
   "cell_type": "markdown",
   "metadata": {},
   "source": [
    "### **Save 2000 samples**\n",
    "Saving the final dataset, keeping only relevent columns"
   ]
  },
  {
   "cell_type": "code",
   "execution_count": 36,
   "metadata": {},
   "outputs": [
    {
     "name": "stdout",
     "output_type": "stream",
     "text": [
      "Final shape of dataset: (2000, 3)\n"
     ]
    },
    {
     "data": {
      "text/html": [
       "<div>\n",
       "<style scoped>\n",
       "    .dataframe tbody tr th:only-of-type {\n",
       "        vertical-align: middle;\n",
       "    }\n",
       "\n",
       "    .dataframe tbody tr th {\n",
       "        vertical-align: top;\n",
       "    }\n",
       "\n",
       "    .dataframe thead th {\n",
       "        text-align: right;\n",
       "    }\n",
       "</style>\n",
       "<table border=\"1\" class=\"dataframe\">\n",
       "  <thead>\n",
       "    <tr style=\"text-align: right;\">\n",
       "      <th></th>\n",
       "      <th>Title</th>\n",
       "      <th>Article</th>\n",
       "      <th>Summary</th>\n",
       "    </tr>\n",
       "  </thead>\n",
       "  <tbody>\n",
       "    <tr>\n",
       "      <th>0</th>\n",
       "      <td>USS SC-40</td>\n",
       "      <td>USS SC-40, until July 1920 known as USS Submar...</td>\n",
       "      <td>USS SC-40, until July 1920 known as USS Submar...</td>\n",
       "    </tr>\n",
       "    <tr>\n",
       "      <th>1</th>\n",
       "      <td>Valentina Zenere</td>\n",
       "      <td>Valentina Zenere  (born 15 January 1997) is an...</td>\n",
       "      <td>Valentina Zenere  (born 15 January 1997) is an...</td>\n",
       "    </tr>\n",
       "    <tr>\n",
       "      <th>2</th>\n",
       "      <td>From M.E. to Myself</td>\n",
       "      <td>From M.E. to Myself (simplified Chinese: 和自己对话...</td>\n",
       "      <td>From M.E. to Myself (simplified Chinese: 和自己对话...</td>\n",
       "    </tr>\n",
       "    <tr>\n",
       "      <th>3</th>\n",
       "      <td>Charalampos Papaioannou</td>\n",
       "      <td>Charalampos Papaioannou (born January 4, 1971)...</td>\n",
       "      <td>Charalampos Papaioannou (born January 4, 1971)...</td>\n",
       "    </tr>\n",
       "    <tr>\n",
       "      <th>4</th>\n",
       "      <td>First United Methodist Church (Aberdeen, South...</td>\n",
       "      <td>Aberdeen First United Methodist Church is a hi...</td>\n",
       "      <td>Aberdeen First United Methodist Church is a hi...</td>\n",
       "    </tr>\n",
       "  </tbody>\n",
       "</table>\n",
       "</div>"
      ],
      "text/plain": [
       "                                               Title  \\\n",
       "0                                          USS SC-40   \n",
       "1                                   Valentina Zenere   \n",
       "2                                From M.E. to Myself   \n",
       "3                            Charalampos Papaioannou   \n",
       "4  First United Methodist Church (Aberdeen, South...   \n",
       "\n",
       "                                             Article  \\\n",
       "0  USS SC-40, until July 1920 known as USS Submar...   \n",
       "1  Valentina Zenere  (born 15 January 1997) is an...   \n",
       "2  From M.E. to Myself (simplified Chinese: 和自己对话...   \n",
       "3  Charalampos Papaioannou (born January 4, 1971)...   \n",
       "4  Aberdeen First United Methodist Church is a hi...   \n",
       "\n",
       "                                             Summary  \n",
       "0  USS SC-40, until July 1920 known as USS Submar...  \n",
       "1  Valentina Zenere  (born 15 January 1997) is an...  \n",
       "2  From M.E. to Myself (simplified Chinese: 和自己对话...  \n",
       "3  Charalampos Papaioannou (born January 4, 1971)...  \n",
       "4  Aberdeen First United Methodist Church is a hi...  "
      ]
     },
     "execution_count": 36,
     "metadata": {},
     "output_type": "execute_result"
    }
   ],
   "source": [
    "res = pd.DataFrame({\"Title\": scraped_wiki[\"Title\"],\n",
    "                    \"Article\":scraped_wiki[\"Article\"],\n",
    "                    \"Summary\":scraped_wiki[\"Summary\"]})\n",
    "res = res.iloc[:2000].reset_index(drop=True)\n",
    "print(f\"Final shape of dataset: {res.shape}\")\n",
    "res.to_csv(\"wikipedia_data.csv\", index=False)\n",
    "res.head()"
   ]
  }
 ],
 "metadata": {
  "kernelspec": {
   "display_name": "TM_project",
   "language": "python",
   "name": "python3"
  },
  "language_info": {
   "codemirror_mode": {
    "name": "ipython",
    "version": 3
   },
   "file_extension": ".py",
   "mimetype": "text/x-python",
   "name": "python",
   "nbconvert_exporter": "python",
   "pygments_lexer": "ipython3",
   "version": "3.10.13"
  }
 },
 "nbformat": 4,
 "nbformat_minor": 2
}
