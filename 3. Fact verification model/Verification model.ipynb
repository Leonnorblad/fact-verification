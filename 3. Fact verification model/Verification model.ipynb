{
 "cells": [
  {
   "cell_type": "markdown",
   "id": "b8fef0a9",
   "metadata": {
    "papermill": {
     "duration": 0.006876,
     "end_time": "2023-12-19T14:44:01.076199",
     "exception": false,
     "start_time": "2023-12-19T14:44:01.069323",
     "status": "completed"
    },
    "tags": []
   },
   "source": [
    "# **Train fact verification model**"
   ]
  },
  {
   "cell_type": "markdown",
   "id": "7f362cd0",
   "metadata": {
    "papermill": {
     "duration": 0.004145,
     "end_time": "2023-12-19T14:44:01.085037",
     "exception": false,
     "start_time": "2023-12-19T14:44:01.080892",
     "status": "completed"
    },
    "tags": []
   },
   "source": [
    "### **Imports**"
   ]
  },
  {
   "cell_type": "code",
   "execution_count": 1,
   "id": "c51e5279",
   "metadata": {
    "execution": {
     "iopub.execute_input": "2023-12-19T14:44:01.096520Z",
     "iopub.status.busy": "2023-12-19T14:44:01.095310Z",
     "iopub.status.idle": "2023-12-19T14:44:18.524256Z",
     "shell.execute_reply": "2023-12-19T14:44:18.523279Z"
    },
    "papermill": {
     "duration": 17.436991,
     "end_time": "2023-12-19T14:44:18.526561",
     "exception": false,
     "start_time": "2023-12-19T14:44:01.089570",
     "status": "completed"
    },
    "tags": []
   },
   "outputs": [],
   "source": [
    "# Functions from my other script:\n",
    "from fact_ver import *\n",
    "# Other packages:\n",
    "import numpy as np\n",
    "import pandas as pd"
   ]
  },
  {
   "cell_type": "markdown",
   "id": "3f79d688",
   "metadata": {
    "papermill": {
     "duration": 0.004178,
     "end_time": "2023-12-19T14:44:18.535594",
     "exception": false,
     "start_time": "2023-12-19T14:44:18.531416",
     "status": "completed"
    },
    "tags": []
   },
   "source": [
    "### **Read generated data**"
   ]
  },
  {
   "cell_type": "code",
   "execution_count": 2,
   "id": "b7040d87",
   "metadata": {
    "execution": {
     "iopub.execute_input": "2023-12-19T14:44:18.547242Z",
     "iopub.status.busy": "2023-12-19T14:44:18.546164Z",
     "iopub.status.idle": "2023-12-19T14:44:18.795853Z",
     "shell.execute_reply": "2023-12-19T14:44:18.794729Z"
    },
    "papermill": {
     "duration": 0.258399,
     "end_time": "2023-12-19T14:44:18.798309",
     "exception": false,
     "start_time": "2023-12-19T14:44:18.539910",
     "status": "completed"
    },
    "tags": []
   },
   "outputs": [
    {
     "data": {
      "text/html": [
       "<div>\n",
       "<style scoped>\n",
       "    .dataframe tbody tr th:only-of-type {\n",
       "        vertical-align: middle;\n",
       "    }\n",
       "\n",
       "    .dataframe tbody tr th {\n",
       "        vertical-align: top;\n",
       "    }\n",
       "\n",
       "    .dataframe thead th {\n",
       "        text-align: right;\n",
       "    }\n",
       "</style>\n",
       "<table border=\"1\" class=\"dataframe\">\n",
       "  <thead>\n",
       "    <tr style=\"text-align: right;\">\n",
       "      <th></th>\n",
       "      <th>Title</th>\n",
       "      <th>Article</th>\n",
       "      <th>Summary</th>\n",
       "      <th>Statement</th>\n",
       "      <th>Label</th>\n",
       "    </tr>\n",
       "  </thead>\n",
       "  <tbody>\n",
       "    <tr>\n",
       "      <th>0</th>\n",
       "      <td>USS SC-40</td>\n",
       "      <td>USS SC-40, until July 1920 known as USS Submar...</td>\n",
       "      <td>USS SC-40, until July 1920 known as USS Submar...</td>\n",
       "      <td>USS SC-40 was a wooden-hulled submarine chaser.</td>\n",
       "      <td>1</td>\n",
       "    </tr>\n",
       "    <tr>\n",
       "      <th>1</th>\n",
       "      <td>Valentina Zenere</td>\n",
       "      <td>Valentina Zenere  (born 15 January 1997) is an...</td>\n",
       "      <td>Valentina Zenere  (born 15 January 1997) is an...</td>\n",
       "      <td>Valentina Zenere plays Isadora Artiñán on Elite.</td>\n",
       "      <td>1</td>\n",
       "    </tr>\n",
       "    <tr>\n",
       "      <th>2</th>\n",
       "      <td>From M.E. to Myself</td>\n",
       "      <td>From M.E. to Myself (simplified Chinese: 和自己对话...</td>\n",
       "      <td>From M.E. to Myself (simplified Chinese: 和自己对话...</td>\n",
       "      <td>Golden Melody Awards for Best Mandarin Male Si...</td>\n",
       "      <td>1</td>\n",
       "    </tr>\n",
       "    <tr>\n",
       "      <th>3</th>\n",
       "      <td>Charalampos Papaioannou</td>\n",
       "      <td>Charalampos Papaioannou (born January 4, 1971)...</td>\n",
       "      <td>Charalampos Papaioannou (born January 4, 1971)...</td>\n",
       "      <td>Charalampos Papaioannou is a Greek judoka.</td>\n",
       "      <td>1</td>\n",
       "    </tr>\n",
       "    <tr>\n",
       "      <th>4</th>\n",
       "      <td>First United Methodist Church (Aberdeen, South...</td>\n",
       "      <td>Aberdeen First United Methodist Church is a hi...</td>\n",
       "      <td>Aberdeen First United Methodist Church is a hi...</td>\n",
       "      <td>The church features an open lantern atop the r...</td>\n",
       "      <td>1</td>\n",
       "    </tr>\n",
       "  </tbody>\n",
       "</table>\n",
       "</div>"
      ],
      "text/plain": [
       "                                               Title  \\\n",
       "0                                          USS SC-40   \n",
       "1                                   Valentina Zenere   \n",
       "2                                From M.E. to Myself   \n",
       "3                            Charalampos Papaioannou   \n",
       "4  First United Methodist Church (Aberdeen, South...   \n",
       "\n",
       "                                             Article  \\\n",
       "0  USS SC-40, until July 1920 known as USS Submar...   \n",
       "1  Valentina Zenere  (born 15 January 1997) is an...   \n",
       "2  From M.E. to Myself (simplified Chinese: 和自己对话...   \n",
       "3  Charalampos Papaioannou (born January 4, 1971)...   \n",
       "4  Aberdeen First United Methodist Church is a hi...   \n",
       "\n",
       "                                             Summary  \\\n",
       "0  USS SC-40, until July 1920 known as USS Submar...   \n",
       "1  Valentina Zenere  (born 15 January 1997) is an...   \n",
       "2  From M.E. to Myself (simplified Chinese: 和自己对话...   \n",
       "3  Charalampos Papaioannou (born January 4, 1971)...   \n",
       "4  Aberdeen First United Methodist Church is a hi...   \n",
       "\n",
       "                                           Statement  Label  \n",
       "0    USS SC-40 was a wooden-hulled submarine chaser.      1  \n",
       "1   Valentina Zenere plays Isadora Artiñán on Elite.      1  \n",
       "2  Golden Melody Awards for Best Mandarin Male Si...      1  \n",
       "3         Charalampos Papaioannou is a Greek judoka.      1  \n",
       "4  The church features an open lantern atop the r...      1  "
      ]
     },
     "execution_count": 2,
     "metadata": {},
     "output_type": "execute_result"
    }
   ],
   "source": [
    "generated_statements = pd.read_csv(\"generated_statements.csv\")\n",
    "generated_statements.head()"
   ]
  },
  {
   "cell_type": "markdown",
   "id": "3245695a",
   "metadata": {
    "papermill": {
     "duration": 0.004612,
     "end_time": "2023-12-19T14:44:18.807999",
     "exception": false,
     "start_time": "2023-12-19T14:44:18.803387",
     "status": "completed"
    },
    "tags": []
   },
   "source": [
    "### **Split data**"
   ]
  },
  {
   "cell_type": "code",
   "execution_count": 3,
   "id": "d850c211",
   "metadata": {
    "execution": {
     "iopub.execute_input": "2023-12-19T14:44:18.819307Z",
     "iopub.status.busy": "2023-12-19T14:44:18.818888Z",
     "iopub.status.idle": "2023-12-19T14:44:18.832525Z",
     "shell.execute_reply": "2023-12-19T14:44:18.830758Z"
    },
    "papermill": {
     "duration": 0.02163,
     "end_time": "2023-12-19T14:44:18.834554",
     "exception": false,
     "start_time": "2023-12-19T14:44:18.812924",
     "status": "completed"
    },
    "tags": []
   },
   "outputs": [
    {
     "name": "stdout",
     "output_type": "stream",
     "text": [
      "-> Train shape: (1400, 5)\n",
      "-> Val shape:   (400, 5)\n",
      "-> Test shape:  (200, 5)\n"
     ]
    }
   ],
   "source": [
    "train_data, val_test_data = train_test_split(generated_statements, test_size=0.3, random_state=42)\n",
    "val_data, test_data = train_test_split(val_test_data, test_size=1/3, random_state=42)\n",
    "print(f\"-> Train shape: {train_data.shape}\")\n",
    "print(f\"-> Val shape:   {val_data.shape}\")\n",
    "print(f\"-> Test shape:  {test_data.shape}\")"
   ]
  },
  {
   "cell_type": "markdown",
   "id": "2aa9bf5c",
   "metadata": {
    "papermill": {
     "duration": 0.004652,
     "end_time": "2023-12-19T14:44:18.844180",
     "exception": false,
     "start_time": "2023-12-19T14:44:18.839528",
     "status": "completed"
    },
    "tags": []
   },
   "source": [
    "### **Extract word embeddings**"
   ]
  },
  {
   "cell_type": "code",
   "execution_count": 4,
   "id": "50b0d050",
   "metadata": {
    "execution": {
     "iopub.execute_input": "2023-12-19T14:44:18.855466Z",
     "iopub.status.busy": "2023-12-19T14:44:18.855059Z",
     "iopub.status.idle": "2023-12-19T14:45:32.318177Z",
     "shell.execute_reply": "2023-12-19T14:45:32.317498Z"
    },
    "papermill": {
     "duration": 73.471238,
     "end_time": "2023-12-19T14:45:32.320199",
     "exception": false,
     "start_time": "2023-12-19T14:44:18.848961",
     "status": "completed"
    },
    "tags": []
   },
   "outputs": [
    {
     "data": {
      "application/vnd.jupyter.widget-view+json": {
       "model_id": "a11bba18e8d547b0996c226e399d035d",
       "version_major": 2,
       "version_minor": 0
      },
      "text/plain": [
       "Downloading config.json:   0%|          | 0.00/286 [00:00<?, ?B/s]"
      ]
     },
     "metadata": {},
     "output_type": "display_data"
    },
    {
     "data": {
      "application/vnd.jupyter.widget-view+json": {
       "model_id": "a4ca22187ecf48468ade3781199421e7",
       "version_major": 2,
       "version_minor": 0
      },
      "text/plain": [
       "Downloading vocab.txt:   0%|          | 0.00/232k [00:00<?, ?B/s]"
      ]
     },
     "metadata": {},
     "output_type": "display_data"
    },
    {
     "data": {
      "application/vnd.jupyter.widget-view+json": {
       "model_id": "528ce5c0cd434c719eaf27e2685daed4",
       "version_major": 2,
       "version_minor": 0
      },
      "text/plain": [
       "Downloading pytorch_model.bin:   0%|          | 0.00/116M [00:00<?, ?B/s]"
      ]
     },
     "metadata": {},
     "output_type": "display_data"
    }
   ],
   "source": [
    "evidence_train = extract_embedding(train_data[\"Summary\"], 127).numpy()\n",
    "evidence_val = extract_embedding(val_data[\"Summary\"], 127).numpy()\n",
    "evidence_test = extract_embedding(test_data[\"Summary\"], 127).numpy()\n",
    "\n",
    "claim_train = extract_embedding(train_data[\"Statement\"], 27).numpy()\n",
    "claim_val = extract_embedding(val_data[\"Statement\"], 27).numpy()\n",
    "claim_test = extract_embedding(test_data[\"Statement\"], 27).numpy()\n",
    "\n",
    "y_train = train_data[\"Label\"]\n",
    "y_val = val_data[\"Label\"]\n",
    "y_test = test_data[\"Label\"]"
   ]
  },
  {
   "cell_type": "code",
   "execution_count": 5,
   "id": "330f04c7",
   "metadata": {
    "execution": {
     "iopub.execute_input": "2023-12-19T14:45:32.332947Z",
     "iopub.status.busy": "2023-12-19T14:45:32.332104Z",
     "iopub.status.idle": "2023-12-19T14:45:32.338974Z",
     "shell.execute_reply": "2023-12-19T14:45:32.337290Z"
    },
    "papermill": {
     "duration": 0.016009,
     "end_time": "2023-12-19T14:45:32.341569",
     "exception": false,
     "start_time": "2023-12-19T14:45:32.325560",
     "status": "completed"
    },
    "tags": []
   },
   "outputs": [
    {
     "name": "stdout",
     "output_type": "stream",
     "text": [
      "-> Labels shape:   (200,)\n",
      "-> Claim shape:    (200, 27, 512)\n",
      "-> Evidence shape: (200, 127, 512)\n"
     ]
    }
   ],
   "source": [
    "print(f\"-> Labels shape:   {y_test.shape}\")\n",
    "print(f\"-> Claim shape:    {claim_test.shape}\")\n",
    "print(f\"-> Evidence shape: {evidence_test.shape}\")"
   ]
  },
  {
   "cell_type": "markdown",
   "id": "59581899",
   "metadata": {
    "papermill": {
     "duration": 0.00512,
     "end_time": "2023-12-19T14:45:32.352433",
     "exception": false,
     "start_time": "2023-12-19T14:45:32.347313",
     "status": "completed"
    },
    "tags": []
   },
   "source": [
    "### **Build model**"
   ]
  },
  {
   "cell_type": "code",
   "execution_count": 6,
   "id": "091cc6aa",
   "metadata": {
    "execution": {
     "iopub.execute_input": "2023-12-19T14:45:32.365111Z",
     "iopub.status.busy": "2023-12-19T14:45:32.364713Z",
     "iopub.status.idle": "2023-12-19T14:45:33.390135Z",
     "shell.execute_reply": "2023-12-19T14:45:33.389272Z"
    },
    "papermill": {
     "duration": 1.034105,
     "end_time": "2023-12-19T14:45:33.392008",
     "exception": false,
     "start_time": "2023-12-19T14:45:32.357903",
     "status": "completed"
    },
    "tags": []
   },
   "outputs": [
    {
     "data": {
      "image/png": "[encoded data removed]",
      "text/plain": [
       "<IPython.core.display.Image object>"
      ]
     },
     "execution_count": 6,
     "metadata": {},
     "output_type": "execute_result"
    }
   ],
   "source": [
    "model = build_model(n_LSTM_ev=10, RET_SEQ_ev=False, n_LSTM_cl=10, RET_SEQ_cl=False,      # LSTM-parametrs\n",
    "                    L2_REG=0.001, DROPOUT_rec=0.2, DROPOUT_RATE1=0.5, DROPOUT_RATE2=0.5, # Regularization parametrs (LSTM & Dense)\n",
    "                    n_DENSE1=10, n_DENSE2=5)                                            # Dense parametrs\n",
    "plot_model(model, to_file=\"model_architecture.png\", show_shapes=True, show_layer_names=True)"
   ]
  },
  {
   "cell_type": "code",
   "execution_count": 7,
   "id": "08823b32",
   "metadata": {
    "execution": {
     "iopub.execute_input": "2023-12-19T14:45:33.408492Z",
     "iopub.status.busy": "2023-12-19T14:45:33.407414Z",
     "iopub.status.idle": "2023-12-19T14:45:33.452822Z",
     "shell.execute_reply": "2023-12-19T14:45:33.452055Z"
    },
    "papermill": {
     "duration": 0.055153,
     "end_time": "2023-12-19T14:45:33.454398",
     "exception": false,
     "start_time": "2023-12-19T14:45:33.399245",
     "status": "completed"
    },
    "tags": []
   },
   "outputs": [
    {
     "name": "stdout",
     "output_type": "stream",
     "text": [
      "Model: \"model\"\n",
      "__________________________________________________________________________________________________\n",
      " Layer (type)                Output Shape                 Param #   Connected to                  \n",
      "==================================================================================================\n",
      " Evidence (InputLayer)       [(None, 127, 512)]           0         []                            \n",
      "                                                                                                  \n",
      " Claim (InputLayer)          [(None, 27, 512)]            0         []                            \n",
      "                                                                                                  \n",
      " BiLSTM-evidence (Bidirecti  (None, 20)                   41840     ['Evidence[0][0]']            \n",
      " onal)                                                                                            \n",
      "                                                                                                  \n",
      " BiLSTM-claim (Bidirectiona  (None, 20)                   41840     ['Claim[0][0]']               \n",
      " l)                                                                                               \n",
      "                                                                                                  \n",
      " Concat (Concatenate)        (None, 40)                   0         ['BiLSTM-evidence[0][0]',     \n",
      "                                                                     'BiLSTM-claim[0][0]']        \n",
      "                                                                                                  \n",
      " Dropout1 (Dropout)          (None, 40)                   0         ['Concat[0][0]']              \n",
      "                                                                                                  \n",
      " Dense1 (Dense)              (None, 10)                   410       ['Dropout1[0][0]']            \n",
      "                                                                                                  \n",
      " BN1 (BatchNormalization)    (None, 10)                   40        ['Dense1[0][0]']              \n",
      "                                                                                                  \n",
      " Dropout2 (Dropout)          (None, 10)                   0         ['BN1[0][0]']                 \n",
      "                                                                                                  \n",
      " Dense2 (Dense)              (None, 5)                    55        ['Dropout2[0][0]']            \n",
      "                                                                                                  \n",
      " BN2 (BatchNormalization)    (None, 5)                    20        ['Dense2[0][0]']              \n",
      "                                                                                                  \n",
      " Output (Dense)              (None, 1)                    6         ['BN2[0][0]']                 \n",
      "                                                                                                  \n",
      "==================================================================================================\n",
      "Total params: 84211 (328.95 KB)\n",
      "Trainable params: 84181 (328.83 KB)\n",
      "Non-trainable params: 30 (120.00 Byte)\n",
      "__________________________________________________________________________________________________\n"
     ]
    }
   ],
   "source": [
    "model.summary()"
   ]
  },
  {
   "cell_type": "markdown",
   "id": "f1367536",
   "metadata": {
    "papermill": {
     "duration": 0.008802,
     "end_time": "2023-12-19T14:45:33.473449",
     "exception": false,
     "start_time": "2023-12-19T14:45:33.464647",
     "status": "completed"
    },
    "tags": []
   },
   "source": [
    "### **Fit model**"
   ]
  },
  {
   "cell_type": "code",
   "execution_count": 8,
   "id": "09c26534",
   "metadata": {
    "execution": {
     "iopub.execute_input": "2023-12-19T14:45:33.492426Z",
     "iopub.status.busy": "2023-12-19T14:45:33.492044Z",
     "iopub.status.idle": "2023-12-19T14:55:07.911417Z",
     "shell.execute_reply": "2023-12-19T14:55:07.910466Z"
    },
    "papermill": {
     "duration": 574.431846,
     "end_time": "2023-12-19T14:55:07.913920",
     "exception": false,
     "start_time": "2023-12-19T14:45:33.482074",
     "status": "completed"
    },
    "tags": []
   },
   "outputs": [
    {
     "name": "stdout",
     "output_type": "stream",
     "text": [
      "Epoch 1/200\n",
      "44/44 [==============================] - ETA: 0s - loss: 1.2466 - accuracy: 0.4900\n",
      "Epoch 1: val_loss improved from inf to 1.04043, saving model to FactVerModel\n",
      "44/44 [==============================] - 28s 449ms/step - loss: 1.2466 - accuracy: 0.4900 - val_loss: 1.0404 - val_accuracy: 0.5850\n",
      "Epoch 2/200\n",
      "44/44 [==============================] - ETA: 0s - loss: 1.1543 - accuracy: 0.5457\n",
      "Epoch 2: val_loss improved from 1.04043 to 1.03666, saving model to FactVerModel\n",
      "44/44 [==============================] - 18s 426ms/step - loss: 1.1543 - accuracy: 0.5457 - val_loss: 1.0367 - val_accuracy: 0.5575\n",
      "Epoch 3/200\n",
      "44/44 [==============================] - ETA: 0s - loss: 1.1081 - accuracy: 0.5493\n",
      "Epoch 3: val_loss improved from 1.03666 to 1.00211, saving model to FactVerModel\n",
      "44/44 [==============================] - 19s 428ms/step - loss: 1.1081 - accuracy: 0.5493 - val_loss: 1.0021 - val_accuracy: 0.6150\n",
      "Epoch 4/200\n",
      "44/44 [==============================] - ETA: 0s - loss: 1.0477 - accuracy: 0.6057\n",
      "Epoch 4: val_loss improved from 1.00211 to 0.97852, saving model to FactVerModel\n",
      "44/44 [==============================] - 19s 430ms/step - loss: 1.0477 - accuracy: 0.6057 - val_loss: 0.9785 - val_accuracy: 0.6450\n",
      "Epoch 5/200\n",
      "44/44 [==============================] - ETA: 0s - loss: 1.0227 - accuracy: 0.6279\n",
      "Epoch 5: val_loss improved from 0.97852 to 0.94668, saving model to FactVerModel\n",
      "44/44 [==============================] - 18s 423ms/step - loss: 1.0227 - accuracy: 0.6279 - val_loss: 0.9467 - val_accuracy: 0.6800\n",
      "Epoch 6/200\n",
      "44/44 [==============================] - ETA: 0s - loss: 0.9682 - accuracy: 0.6600\n",
      "Epoch 6: val_loss did not improve from 0.94668\n",
      "44/44 [==============================] - 5s 112ms/step - loss: 0.9682 - accuracy: 0.6600 - val_loss: 0.9654 - val_accuracy: 0.6575\n",
      "Epoch 7/200\n",
      "44/44 [==============================] - ETA: 0s - loss: 0.9682 - accuracy: 0.6529\n",
      "Epoch 7: val_loss improved from 0.94668 to 0.94098, saving model to FactVerModel\n",
      "44/44 [==============================] - 18s 415ms/step - loss: 0.9682 - accuracy: 0.6529 - val_loss: 0.9410 - val_accuracy: 0.6650\n",
      "Epoch 8/200\n",
      "44/44 [==============================] - ETA: 0s - loss: 0.9351 - accuracy: 0.6800\n",
      "Epoch 8: val_loss improved from 0.94098 to 0.89366, saving model to FactVerModel\n",
      "44/44 [==============================] - 18s 417ms/step - loss: 0.9351 - accuracy: 0.6800 - val_loss: 0.8937 - val_accuracy: 0.6875\n",
      "Epoch 9/200\n",
      "44/44 [==============================] - ETA: 0s - loss: 0.9079 - accuracy: 0.6979\n",
      "Epoch 9: val_loss improved from 0.89366 to 0.88527, saving model to FactVerModel\n",
      "44/44 [==============================] - 18s 425ms/step - loss: 0.9079 - accuracy: 0.6979 - val_loss: 0.8853 - val_accuracy: 0.6925\n",
      "Epoch 10/200\n",
      "44/44 [==============================] - ETA: 0s - loss: 0.9167 - accuracy: 0.6979\n",
      "Epoch 10: val_loss improved from 0.88527 to 0.87511, saving model to FactVerModel\n",
      "44/44 [==============================] - 19s 433ms/step - loss: 0.9167 - accuracy: 0.6979 - val_loss: 0.8751 - val_accuracy: 0.6875\n",
      "Epoch 11/200\n",
      "44/44 [==============================] - ETA: 0s - loss: 0.8809 - accuracy: 0.7229\n",
      "Epoch 11: val_loss improved from 0.87511 to 0.84460, saving model to FactVerModel\n",
      "44/44 [==============================] - 18s 426ms/step - loss: 0.8809 - accuracy: 0.7229 - val_loss: 0.8446 - val_accuracy: 0.7300\n",
      "Epoch 12/200\n",
      "44/44 [==============================] - ETA: 0s - loss: 0.8779 - accuracy: 0.7093\n",
      "Epoch 12: val_loss did not improve from 0.84460\n",
      "44/44 [==============================] - 5s 113ms/step - loss: 0.8779 - accuracy: 0.7093 - val_loss: 0.8606 - val_accuracy: 0.6975\n",
      "Epoch 13/200\n",
      "44/44 [==============================] - ETA: 0s - loss: 0.8478 - accuracy: 0.7343\n",
      "Epoch 13: val_loss did not improve from 0.84460\n",
      "44/44 [==============================] - 5s 111ms/step - loss: 0.8478 - accuracy: 0.7343 - val_loss: 0.8462 - val_accuracy: 0.7250\n",
      "Epoch 14/200\n",
      "44/44 [==============================] - ETA: 0s - loss: 0.8478 - accuracy: 0.7336\n",
      "Epoch 14: val_loss improved from 0.84460 to 0.82266, saving model to FactVerModel\n",
      "44/44 [==============================] - 18s 405ms/step - loss: 0.8478 - accuracy: 0.7336 - val_loss: 0.8227 - val_accuracy: 0.7175\n",
      "Epoch 15/200\n",
      "44/44 [==============================] - ETA: 0s - loss: 0.8118 - accuracy: 0.7700\n",
      "Epoch 15: val_loss improved from 0.82266 to 0.79715, saving model to FactVerModel\n",
      "44/44 [==============================] - 19s 444ms/step - loss: 0.8118 - accuracy: 0.7700 - val_loss: 0.7972 - val_accuracy: 0.7725\n",
      "Epoch 16/200\n",
      "44/44 [==============================] - ETA: 0s - loss: 0.8130 - accuracy: 0.7436\n",
      "Epoch 16: val_loss improved from 0.79715 to 0.77801, saving model to FactVerModel\n",
      "44/44 [==============================] - 19s 428ms/step - loss: 0.8130 - accuracy: 0.7436 - val_loss: 0.7780 - val_accuracy: 0.7725\n",
      "Epoch 17/200\n",
      "44/44 [==============================] - ETA: 0s - loss: 0.7726 - accuracy: 0.7729\n",
      "Epoch 17: val_loss did not improve from 0.77801\n",
      "44/44 [==============================] - 5s 112ms/step - loss: 0.7726 - accuracy: 0.7729 - val_loss: 0.7990 - val_accuracy: 0.7450\n",
      "Epoch 18/200\n",
      "44/44 [==============================] - ETA: 0s - loss: 0.7744 - accuracy: 0.7793\n",
      "Epoch 18: val_loss did not improve from 0.77801\n",
      "44/44 [==============================] - 5s 113ms/step - loss: 0.7744 - accuracy: 0.7793 - val_loss: 0.7854 - val_accuracy: 0.7550\n",
      "Epoch 19/200\n",
      "44/44 [==============================] - ETA: 0s - loss: 0.7675 - accuracy: 0.7736\n",
      "Epoch 19: val_loss improved from 0.77801 to 0.75837, saving model to FactVerModel\n",
      "44/44 [==============================] - 19s 433ms/step - loss: 0.7675 - accuracy: 0.7736 - val_loss: 0.7584 - val_accuracy: 0.7600\n",
      "Epoch 20/200\n",
      "44/44 [==============================] - ETA: 0s - loss: 0.7167 - accuracy: 0.8079\n",
      "Epoch 20: val_loss improved from 0.75837 to 0.74388, saving model to FactVerModel\n",
      "44/44 [==============================] - 17s 399ms/step - loss: 0.7167 - accuracy: 0.8079 - val_loss: 0.7439 - val_accuracy: 0.7775\n",
      "Epoch 21/200\n",
      "44/44 [==============================] - ETA: 0s - loss: 0.7018 - accuracy: 0.8136\n",
      "Epoch 21: val_loss improved from 0.74388 to 0.74271, saving model to FactVerModel\n",
      "44/44 [==============================] - 19s 432ms/step - loss: 0.7018 - accuracy: 0.8136 - val_loss: 0.7427 - val_accuracy: 0.7700\n",
      "Epoch 22/200\n",
      "44/44 [==============================] - ETA: 0s - loss: 0.6999 - accuracy: 0.8121\n",
      "Epoch 22: val_loss improved from 0.74271 to 0.72834, saving model to FactVerModel\n",
      "44/44 [==============================] - 18s 426ms/step - loss: 0.6999 - accuracy: 0.8121 - val_loss: 0.7283 - val_accuracy: 0.7800\n",
      "Epoch 23/200\n",
      "44/44 [==============================] - ETA: 0s - loss: 0.6597 - accuracy: 0.8364\n",
      "Epoch 23: val_loss improved from 0.72834 to 0.72593, saving model to FactVerModel\n",
      "44/44 [==============================] - 18s 426ms/step - loss: 0.6597 - accuracy: 0.8364 - val_loss: 0.7259 - val_accuracy: 0.7775\n",
      "Epoch 24/200\n",
      "44/44 [==============================] - ETA: 0s - loss: 0.6564 - accuracy: 0.8336\n",
      "Epoch 24: val_loss did not improve from 0.72593\n",
      "44/44 [==============================] - 5s 112ms/step - loss: 0.6564 - accuracy: 0.8336 - val_loss: 0.7345 - val_accuracy: 0.7625\n",
      "Epoch 25/200\n",
      "44/44 [==============================] - ETA: 0s - loss: 0.6404 - accuracy: 0.8329\n",
      "Epoch 25: val_loss improved from 0.72593 to 0.71703, saving model to FactVerModel\n",
      "44/44 [==============================] - 17s 397ms/step - loss: 0.6404 - accuracy: 0.8329 - val_loss: 0.7170 - val_accuracy: 0.7675\n",
      "Epoch 26/200\n",
      "44/44 [==============================] - ETA: 0s - loss: 0.6271 - accuracy: 0.8450\n",
      "Epoch 26: val_loss improved from 0.71703 to 0.70059, saving model to FactVerModel\n",
      "44/44 [==============================] - 19s 432ms/step - loss: 0.6271 - accuracy: 0.8450 - val_loss: 0.7006 - val_accuracy: 0.7700\n",
      "Epoch 27/200\n",
      "44/44 [==============================] - ETA: 0s - loss: 0.6056 - accuracy: 0.8529\n",
      "Epoch 27: val_loss improved from 0.70059 to 0.68974, saving model to FactVerModel\n",
      "44/44 [==============================] - 19s 432ms/step - loss: 0.6056 - accuracy: 0.8529 - val_loss: 0.6897 - val_accuracy: 0.7900\n",
      "Epoch 28/200\n",
      "44/44 [==============================] - ETA: 0s - loss: 0.5877 - accuracy: 0.8521\n",
      "Epoch 28: val_loss did not improve from 0.68974\n",
      "44/44 [==============================] - 5s 111ms/step - loss: 0.5877 - accuracy: 0.8521 - val_loss: 0.7056 - val_accuracy: 0.7725\n",
      "Epoch 29/200\n",
      "44/44 [==============================] - ETA: 0s - loss: 0.5683 - accuracy: 0.8679\n",
      "Epoch 29: val_loss improved from 0.68974 to 0.68952, saving model to FactVerModel\n",
      "44/44 [==============================] - 18s 422ms/step - loss: 0.5683 - accuracy: 0.8679 - val_loss: 0.6895 - val_accuracy: 0.7725\n",
      "Epoch 30/200\n",
      "44/44 [==============================] - ETA: 0s - loss: 0.5679 - accuracy: 0.8621\n",
      "Epoch 30: val_loss improved from 0.68952 to 0.68140, saving model to FactVerModel\n",
      "44/44 [==============================] - 17s 402ms/step - loss: 0.5679 - accuracy: 0.8621 - val_loss: 0.6814 - val_accuracy: 0.7875\n",
      "Epoch 31/200\n",
      "44/44 [==============================] - ETA: 0s - loss: 0.5378 - accuracy: 0.8786\n",
      "Epoch 31: val_loss did not improve from 0.68140\n",
      "44/44 [==============================] - 5s 117ms/step - loss: 0.5378 - accuracy: 0.8786 - val_loss: 0.6967 - val_accuracy: 0.7850\n",
      "Epoch 32/200\n",
      "44/44 [==============================] - ETA: 0s - loss: 0.5270 - accuracy: 0.8821\n",
      "Epoch 32: val_loss improved from 0.68140 to 0.66756, saving model to FactVerModel\n",
      "44/44 [==============================] - 19s 440ms/step - loss: 0.5270 - accuracy: 0.8821 - val_loss: 0.6676 - val_accuracy: 0.7875\n",
      "Epoch 33/200\n",
      "44/44 [==============================] - ETA: 0s - loss: 0.5191 - accuracy: 0.8829\n",
      "Epoch 33: val_loss improved from 0.66756 to 0.65962, saving model to FactVerModel\n",
      "44/44 [==============================] - 18s 425ms/step - loss: 0.5191 - accuracy: 0.8829 - val_loss: 0.6596 - val_accuracy: 0.8025\n",
      "Epoch 34/200\n",
      "44/44 [==============================] - ETA: 0s - loss: 0.4980 - accuracy: 0.8914\n",
      "Epoch 34: val_loss did not improve from 0.65962\n",
      "44/44 [==============================] - 5s 110ms/step - loss: 0.4980 - accuracy: 0.8914 - val_loss: 0.6648 - val_accuracy: 0.7950\n",
      "Epoch 35/200\n",
      "44/44 [==============================] - ETA: 0s - loss: 0.4724 - accuracy: 0.9057\n",
      "Epoch 35: val_loss did not improve from 0.65962\n",
      "44/44 [==============================] - 5s 113ms/step - loss: 0.4724 - accuracy: 0.9057 - val_loss: 0.6736 - val_accuracy: 0.7875\n",
      "Epoch 36/200\n",
      "44/44 [==============================] - ETA: 0s - loss: 0.4659 - accuracy: 0.9121\n",
      "Epoch 36: val_loss did not improve from 0.65962\n",
      "44/44 [==============================] - 5s 110ms/step - loss: 0.4659 - accuracy: 0.9121 - val_loss: 0.6727 - val_accuracy: 0.7950\n",
      "Epoch 37/200\n",
      "44/44 [==============================] - ETA: 0s - loss: 0.4651 - accuracy: 0.9007\n",
      "Epoch 37: val_loss did not improve from 0.65962\n",
      "44/44 [==============================] - 5s 113ms/step - loss: 0.4651 - accuracy: 0.9007 - val_loss: 0.6866 - val_accuracy: 0.8000\n",
      "Epoch 38/200\n",
      "44/44 [==============================] - ETA: 0s - loss: 0.4401 - accuracy: 0.9014\n",
      "Epoch 38: val_loss did not improve from 0.65962\n",
      "44/44 [==============================] - 5s 114ms/step - loss: 0.4401 - accuracy: 0.9014 - val_loss: 0.6860 - val_accuracy: 0.7775\n",
      "Epoch 39/200\n",
      "44/44 [==============================] - ETA: 0s - loss: 0.4462 - accuracy: 0.9100\n",
      "Epoch 39: val_loss did not improve from 0.65962\n",
      "44/44 [==============================] - 5s 113ms/step - loss: 0.4462 - accuracy: 0.9100 - val_loss: 0.6700 - val_accuracy: 0.7875\n",
      "Epoch 40/200\n",
      "44/44 [==============================] - ETA: 0s - loss: 0.4170 - accuracy: 0.9229\n",
      "Epoch 40: val_loss did not improve from 0.65962\n",
      "44/44 [==============================] - 5s 111ms/step - loss: 0.4170 - accuracy: 0.9229 - val_loss: 0.6896 - val_accuracy: 0.7950\n",
      "Epoch 41/200\n",
      "44/44 [==============================] - ETA: 0s - loss: 0.3847 - accuracy: 0.9400\n",
      "Epoch 41: val_loss did not improve from 0.65962\n",
      "44/44 [==============================] - 5s 110ms/step - loss: 0.3847 - accuracy: 0.9400 - val_loss: 0.7009 - val_accuracy: 0.7850\n",
      "Epoch 42/200\n",
      "44/44 [==============================] - ETA: 0s - loss: 0.4107 - accuracy: 0.9229\n",
      "Epoch 42: val_loss did not improve from 0.65962\n",
      "44/44 [==============================] - 5s 111ms/step - loss: 0.4107 - accuracy: 0.9229 - val_loss: 0.6915 - val_accuracy: 0.7900\n",
      "Epoch 43/200\n",
      "44/44 [==============================] - ETA: 0s - loss: 0.3875 - accuracy: 0.9279\n",
      "Epoch 43: val_loss did not improve from 0.65962\n",
      "44/44 [==============================] - 5s 112ms/step - loss: 0.3875 - accuracy: 0.9279 - val_loss: 0.6987 - val_accuracy: 0.7875\n"
     ]
    }
   ],
   "source": [
    "history, model = fit_model(model, LR=0.0005, BS=32,\n",
    "                           claim_train=claim_train,\n",
    "                           evidence_train=evidence_train,\n",
    "                           y_train=y_train,\n",
    "                           claim_val=claim_val,\n",
    "                           evidence_val=evidence_val,\n",
    "                           y_val=y_val)"
   ]
  },
  {
   "cell_type": "markdown",
   "id": "5e2e18d0",
   "metadata": {
    "papermill": {
     "duration": 0.12374,
     "end_time": "2023-12-19T14:55:08.167438",
     "exception": false,
     "start_time": "2023-12-19T14:55:08.043698",
     "status": "completed"
    },
    "tags": []
   },
   "source": [
    "## **Evaluate model**"
   ]
  },
  {
   "cell_type": "code",
   "execution_count": 9,
   "id": "819a8c77",
   "metadata": {
    "execution": {
     "iopub.execute_input": "2023-12-19T14:55:08.420356Z",
     "iopub.status.busy": "2023-12-19T14:55:08.419975Z",
     "iopub.status.idle": "2023-12-19T14:55:09.728678Z",
     "shell.execute_reply": "2023-12-19T14:55:09.727897Z"
    },
    "papermill": {
     "duration": 1.439369,
     "end_time": "2023-12-19T14:55:09.730372",
     "exception": false,
     "start_time": "2023-12-19T14:55:08.291003",
     "status": "completed"
    },
    "tags": []
   },
   "outputs": [
    {
     "name": "stdout",
     "output_type": "stream",
     "text": [
      "13/13 [==============================] - 1s 25ms/step - loss: 0.6596 - accuracy: 0.8025\n",
      "0.8025000095367432\n"
     ]
    }
   ],
   "source": [
    "loss, acc = model.evaluate([claim_val, evidence_val], y_val)\n",
    "print(acc)"
   ]
  },
  {
   "cell_type": "code",
   "execution_count": 10,
   "id": "57801370",
   "metadata": {
    "execution": {
     "iopub.execute_input": "2023-12-19T14:55:09.983262Z",
     "iopub.status.busy": "2023-12-19T14:55:09.982577Z",
     "iopub.status.idle": "2023-12-19T14:55:10.981356Z",
     "shell.execute_reply": "2023-12-19T14:55:10.980418Z"
    },
    "papermill": {
     "duration": 1.1279,
     "end_time": "2023-12-19T14:55:10.983431",
     "exception": false,
     "start_time": "2023-12-19T14:55:09.855531",
     "status": "completed"
    },
    "tags": []
   },
   "outputs": [
    {
     "name": "stdout",
     "output_type": "stream",
     "text": [
      "Lowest validation loss at epoch: 33\n"
     ]
    },
    {
     "data": {
      "image/png": "[encoded data removed]",
      "text/plain": [
       "<Figure size 330x600 with 2 Axes>"
      ]
     },
     "metadata": {},
     "output_type": "display_data"
    }
   ],
   "source": [
    "plot_training_history(history)"
   ]
  },
  {
   "cell_type": "markdown",
   "id": "43c252f1",
   "metadata": {
    "papermill": {
     "duration": 0.127488,
     "end_time": "2023-12-19T14:55:11.237191",
     "exception": false,
     "start_time": "2023-12-19T14:55:11.109703",
     "status": "completed"
    },
    "tags": []
   },
   "source": [
    "## **Train report**"
   ]
  },
  {
   "cell_type": "code",
   "execution_count": 11,
   "id": "51b760c5",
   "metadata": {
    "execution": {
     "iopub.execute_input": "2023-12-19T14:55:11.488095Z",
     "iopub.status.busy": "2023-12-19T14:55:11.487513Z",
     "iopub.status.idle": "2023-12-19T14:55:13.812644Z",
     "shell.execute_reply": "2023-12-19T14:55:13.811365Z"
    },
    "papermill": {
     "duration": 2.453903,
     "end_time": "2023-12-19T14:55:13.814574",
     "exception": false,
     "start_time": "2023-12-19T14:55:11.360671",
     "status": "completed"
    },
    "tags": []
   },
   "outputs": [
    {
     "name": "stdout",
     "output_type": "stream",
     "text": [
      "44/44 [==============================] - 2s 25ms/step\n",
      "              precision    recall  f1-score   support\n",
      "\n",
      "           0       0.95      0.97      0.96       702\n",
      "           1       0.97      0.95      0.96       698\n",
      "\n",
      "    accuracy                           0.96      1400\n",
      "   macro avg       0.96      0.96      0.96      1400\n",
      "weighted avg       0.96      0.96      0.96      1400\n",
      "\n"
     ]
    }
   ],
   "source": [
    "predictions = model.predict([claim_train, evidence_train])\n",
    "y_pred = (predictions > 0.5).astype(int)\n",
    "report = classification_report(y_train, y_pred)\n",
    "print(report)"
   ]
  },
  {
   "cell_type": "markdown",
   "id": "f0515e7c",
   "metadata": {
    "papermill": {
     "duration": 0.127029,
     "end_time": "2023-12-19T14:55:14.069387",
     "exception": false,
     "start_time": "2023-12-19T14:55:13.942358",
     "status": "completed"
    },
    "tags": []
   },
   "source": [
    "## **Validation report**"
   ]
  },
  {
   "cell_type": "code",
   "execution_count": 12,
   "id": "8094b9f1",
   "metadata": {
    "execution": {
     "iopub.execute_input": "2023-12-19T14:55:14.325354Z",
     "iopub.status.busy": "2023-12-19T14:55:14.325000Z",
     "iopub.status.idle": "2023-12-19T14:55:16.087095Z",
     "shell.execute_reply": "2023-12-19T14:55:16.085880Z"
    },
    "papermill": {
     "duration": 1.892674,
     "end_time": "2023-12-19T14:55:16.089504",
     "exception": false,
     "start_time": "2023-12-19T14:55:14.196830",
     "status": "completed"
    },
    "tags": []
   },
   "outputs": [
    {
     "name": "stdout",
     "output_type": "stream",
     "text": [
      "13/13 [==============================] - 0s 24ms/step\n",
      "              precision    recall  f1-score   support\n",
      "\n",
      "           0       0.80      0.79      0.79       192\n",
      "           1       0.81      0.82      0.81       208\n",
      "\n",
      "    accuracy                           0.80       400\n",
      "   macro avg       0.80      0.80      0.80       400\n",
      "weighted avg       0.80      0.80      0.80       400\n",
      "\n"
     ]
    }
   ],
   "source": [
    "predictions = model.predict([claim_val, evidence_val])\n",
    "y_pred = (predictions > 0.5).astype(int)\n",
    "report = classification_report(y_val, y_pred)\n",
    "print(report)"
   ]
  },
  {
   "cell_type": "markdown",
   "id": "c478e3ec",
   "metadata": {
    "papermill": {
     "duration": 0.129554,
     "end_time": "2023-12-19T14:55:16.355458",
     "exception": false,
     "start_time": "2023-12-19T14:55:16.225904",
     "status": "completed"
    },
    "tags": []
   },
   "source": [
    "## **Test report**"
   ]
  },
  {
   "cell_type": "code",
   "execution_count": 13,
   "id": "bc24a9df",
   "metadata": {
    "execution": {
     "iopub.execute_input": "2023-12-19T14:55:16.613854Z",
     "iopub.status.busy": "2023-12-19T14:55:16.612631Z",
     "iopub.status.idle": "2023-12-19T14:55:17.018432Z",
     "shell.execute_reply": "2023-12-19T14:55:17.016848Z"
    },
    "papermill": {
     "duration": 0.537047,
     "end_time": "2023-12-19T14:55:17.020737",
     "exception": false,
     "start_time": "2023-12-19T14:55:16.483690",
     "status": "completed"
    },
    "tags": []
   },
   "outputs": [
    {
     "name": "stdout",
     "output_type": "stream",
     "text": [
      "7/7 [==============================] - 0s 25ms/step\n",
      "              precision    recall  f1-score   support\n",
      "\n",
      "           0       0.90      0.80      0.85       106\n",
      "           1       0.80      0.90      0.85        94\n",
      "\n",
      "    accuracy                           0.85       200\n",
      "   macro avg       0.85      0.85      0.85       200\n",
      "weighted avg       0.86      0.85      0.85       200\n",
      "\n"
     ]
    }
   ],
   "source": [
    "predictions = model.predict([claim_test, evidence_test])\n",
    "y_pred = (predictions > 0.5).astype(int)\n",
    "report = classification_report(y_test, y_pred)\n",
    "print(report)"
   ]
  }
 ],
 "metadata": {
  "kaggle": {
   "accelerator": "none",
   "dataSources": [
    {
     "datasetId": 4174909,
     "sourceId": 7214629,
     "sourceType": "datasetVersion"
    },
    {
     "sourceId": 155409937,
     "sourceType": "kernelVersion"
    }
   ],
   "dockerImageVersionId": 30587,
   "isGpuEnabled": false,
   "isInternetEnabled": true,
   "language": "python",
   "sourceType": "notebook"
  },
  "kernelspec": {
   "display_name": "Python 3",
   "language": "python",
   "name": "python3"
  },
  "language_info": {
   "codemirror_mode": {
    "name": "ipython",
    "version": 3
   },
   "file_extension": ".py",
   "mimetype": "text/x-python",
   "name": "python",
   "nbconvert_exporter": "python",
   "pygments_lexer": "ipython3",
   "version": "3.10.12"
  },
  "papermill": {
   "default_parameters": {},
   "duration": 682.470087,
   "end_time": "2023-12-19T14:55:20.715464",
   "environment_variables": {},
   "exception": null,
   "input_path": "__notebook__.ipynb",
   "output_path": "__notebook__.ipynb",
   "parameters": {},
   "start_time": "2023-12-19T14:43:58.245377",
   "version": "2.4.0"
  },
  "widgets": {
   "application/vnd.jupyter.widget-state+json": {
    "state": {
     "1d970854aa6d4fdd8b25998fc54c7f3b": {
      "model_module": "@jupyter-widgets/controls",
      "model_module_version": "1.5.0",
      "model_name": "DescriptionStyleModel",
      "state": {
       "_model_module": "@jupyter-widgets/controls",
       "_model_module_version": "1.5.0",
       "_model_name": "DescriptionStyleModel",
       "_view_count": null,
       "_view_module": "@jupyter-widgets/base",
       "_view_module_version": "1.2.0",
       "_view_name": "StyleView",
       "description_width": ""
      }
     },
     "2a423ed8b9404d62b3fb5aa7003f5ba8": {
      "model_module": "@jupyter-widgets/controls",
      "model_module_version": "1.5.0",
      "model_name": "FloatProgressModel",
      "state": {
       "_dom_classes": [],
       "_model_module": "@jupyter-widgets/controls",
       "_model_module_version": "1.5.0",
       "_model_name": "FloatProgressModel",
       "_view_count": null,
       "_view_module": "@jupyter-widgets/controls",
       "_view_module_version": "1.5.0",
       "_view_name": "ProgressView",
       "bar_style": "success",
       "description": "",
       "description_tooltip": null,
       "layout": "IPY_MODEL_7a1a511423314db6bcd273b292d8863c",
       "max": 286,
       "min": 0,
       "orientation": "horizontal",
       "style": "IPY_MODEL_623f1cb8ae684a0c882c338d21ff4215",
       "value": 286
      }
     },
     "2dca4f706a224b68ac44e821dcf47f3d": {
      "model_module": "@jupyter-widgets/base",
      "model_module_version": "1.2.0",
      "model_name": "LayoutModel",
      "state": {
       "_model_module": "@jupyter-widgets/base",
       "_model_module_version": "1.2.0",
       "_model_name": "LayoutModel",
       "_view_count": null,
       "_view_module": "@jupyter-widgets/base",
       "_view_module_version": "1.2.0",
       "_view_name": "LayoutView",
       "align_content": null,
       "align_items": null,
       "align_self": null,
       "border": null,
       "bottom": null,
       "display": null,
       "flex": null,
       "flex_flow": null,
       "grid_area": null,
       "grid_auto_columns": null,
       "grid_auto_flow": null,
       "grid_auto_rows": null,
       "grid_column": null,
       "grid_gap": null,
       "grid_row": null,
       "grid_template_areas": null,
       "grid_template_columns": null,
       "grid_template_rows": null,
       "height": null,
       "justify_content": null,
       "justify_items": null,
       "left": null,
       "margin": null,
       "max_height": null,
       "max_width": null,
       "min_height": null,
       "min_width": null,
       "object_fit": null,
       "object_position": null,
       "order": null,
       "overflow": null,
       "overflow_x": null,
       "overflow_y": null,
       "padding": null,
       "right": null,
       "top": null,
       "visibility": null,
       "width": null
      }
     },
     "3120b94f5c7e43b0b552915a9746a110": {
      "model_module": "@jupyter-widgets/controls",
      "model_module_version": "1.5.0",
      "model_name": "HTMLModel",
      "state": {
       "_dom_classes": [],
       "_model_module": "@jupyter-widgets/controls",
       "_model_module_version": "1.5.0",
       "_model_name": "HTMLModel",
       "_view_count": null,
       "_view_module": "@jupyter-widgets/controls",
       "_view_module_version": "1.5.0",
       "_view_name": "HTMLView",
       "description": "",
       "description_tooltip": null,
       "layout": "IPY_MODEL_79a34d6f40a240ebbe57bde26b8c4508",
       "placeholder": "​",
       "style": "IPY_MODEL_1d970854aa6d4fdd8b25998fc54c7f3b",
       "value": "Downloading pytorch_model.bin: 100%"
      }
     },
     "33470685de3c412086593855ece140eb": {
      "model_module": "@jupyter-widgets/controls",
      "model_module_version": "1.5.0",
      "model_name": "HTMLModel",
      "state": {
       "_dom_classes": [],
       "_model_module": "@jupyter-widgets/controls",
       "_model_module_version": "1.5.0",
       "_model_name": "HTMLModel",
       "_view_count": null,
       "_view_module": "@jupyter-widgets/controls",
       "_view_module_version": "1.5.0",
       "_view_name": "HTMLView",
       "description": "",
       "description_tooltip": null,
       "layout": "IPY_MODEL_90e841a78a6f4a63ad09e9db3a590c8c",
       "placeholder": "​",
       "style": "IPY_MODEL_7ad4c08c643a421caeb8c4ea1cd58532",
       "value": " 232k/232k [00:00&lt;00:00, 7.98MB/s]"
      }
     },
     "357092a4870440d391f85630a19e7d2b": {
      "model_module": "@jupyter-widgets/base",
      "model_module_version": "1.2.0",
      "model_name": "LayoutModel",
      "state": {
       "_model_module": "@jupyter-widgets/base",
       "_model_module_version": "1.2.0",
       "_model_name": "LayoutModel",
       "_view_count": null,
       "_view_module": "@jupyter-widgets/base",
       "_view_module_version": "1.2.0",
       "_view_name": "LayoutView",
       "align_content": null,
       "align_items": null,
       "align_self": null,
       "border": null,
       "bottom": null,
       "display": null,
       "flex": null,
       "flex_flow": null,
       "grid_area": null,
       "grid_auto_columns": null,
       "grid_auto_flow": null,
       "grid_auto_rows": null,
       "grid_column": null,
       "grid_gap": null,
       "grid_row": null,
       "grid_template_areas": null,
       "grid_template_columns": null,
       "grid_template_rows": null,
       "height": null,
       "justify_content": null,
       "justify_items": null,
       "left": null,
       "margin": null,
       "max_height": null,
       "max_width": null,
       "min_height": null,
       "min_width": null,
       "object_fit": null,
       "object_position": null,
       "order": null,
       "overflow": null,
       "overflow_x": null,
       "overflow_y": null,
       "padding": null,
       "right": null,
       "top": null,
       "visibility": null,
       "width": null
      }
     },
     "528ce5c0cd434c719eaf27e2685daed4": {
      "model_module": "@jupyter-widgets/controls",
      "model_module_version": "1.5.0",
      "model_name": "HBoxModel",
      "state": {
       "_dom_classes": [],
       "_model_module": "@jupyter-widgets/controls",
       "_model_module_version": "1.5.0",
       "_model_name": "HBoxModel",
       "_view_count": null,
       "_view_module": "@jupyter-widgets/controls",
       "_view_module_version": "1.5.0",
       "_view_name": "HBoxView",
       "box_style": "",
       "children": [
        "IPY_MODEL_3120b94f5c7e43b0b552915a9746a110",
        "IPY_MODEL_f889c0db22654a4b9caafe530a2a655b",
        "IPY_MODEL_98d5ba006c0043a3ba8f3549f790a91b"
       ],
       "layout": "IPY_MODEL_357092a4870440d391f85630a19e7d2b"
      }
     },
     "53630b5c4b5447d5bd3135496cd44f1b": {
      "model_module": "@jupyter-widgets/controls",
      "model_module_version": "1.5.0",
      "model_name": "HTMLModel",
      "state": {
       "_dom_classes": [],
       "_model_module": "@jupyter-widgets/controls",
       "_model_module_version": "1.5.0",
       "_model_name": "HTMLModel",
       "_view_count": null,
       "_view_module": "@jupyter-widgets/controls",
       "_view_module_version": "1.5.0",
       "_view_name": "HTMLView",
       "description": "",
       "description_tooltip": null,
       "layout": "IPY_MODEL_7e34370a8d86413ebdc3af21b923c397",
       "placeholder": "​",
       "style": "IPY_MODEL_f1e85178e0504dbca1d3944a90af78c4",
       "value": "Downloading config.json: 100%"
      }
     },
     "623f1cb8ae684a0c882c338d21ff4215": {
      "model_module": "@jupyter-widgets/controls",
      "model_module_version": "1.5.0",
      "model_name": "ProgressStyleModel",
      "state": {
       "_model_module": "@jupyter-widgets/controls",
       "_model_module_version": "1.5.0",
       "_model_name": "ProgressStyleModel",
       "_view_count": null,
       "_view_module": "@jupyter-widgets/base",
       "_view_module_version": "1.2.0",
       "_view_name": "StyleView",
       "bar_color": null,
       "description_width": ""
      }
     },
     "6e5323df12364b228f920c0b82a1fe87": {
      "model_module": "@jupyter-widgets/controls",
      "model_module_version": "1.5.0",
      "model_name": "ProgressStyleModel",
      "state": {
       "_model_module": "@jupyter-widgets/controls",
       "_model_module_version": "1.5.0",
       "_model_name": "ProgressStyleModel",
       "_view_count": null,
       "_view_module": "@jupyter-widgets/base",
       "_view_module_version": "1.2.0",
       "_view_name": "StyleView",
       "bar_color": null,
       "description_width": ""
      }
     },
     "7439b51a40a24afd88e47201c874b459": {
      "model_module": "@jupyter-widgets/base",
      "model_module_version": "1.2.0",
      "model_name": "LayoutModel",
      "state": {
       "_model_module": "@jupyter-widgets/base",
       "_model_module_version": "1.2.0",
       "_model_name": "LayoutModel",
       "_view_count": null,
       "_view_module": "@jupyter-widgets/base",
       "_view_module_version": "1.2.0",
       "_view_name": "LayoutView",
       "align_content": null,
       "align_items": null,
       "align_self": null,
       "border": null,
       "bottom": null,
       "display": null,
       "flex": null,
       "flex_flow": null,
       "grid_area": null,
       "grid_auto_columns": null,
       "grid_auto_flow": null,
       "grid_auto_rows": null,
       "grid_column": null,
       "grid_gap": null,
       "grid_row": null,
       "grid_template_areas": null,
       "grid_template_columns": null,
       "grid_template_rows": null,
       "height": null,
       "justify_content": null,
       "justify_items": null,
       "left": null,
       "margin": null,
       "max_height": null,
       "max_width": null,
       "min_height": null,
       "min_width": null,
       "object_fit": null,
       "object_position": null,
       "order": null,
       "overflow": null,
       "overflow_x": null,
       "overflow_y": null,
       "padding": null,
       "right": null,
       "top": null,
       "visibility": null,
       "width": null
      }
     },
     "79a34d6f40a240ebbe57bde26b8c4508": {
      "model_module": "@jupyter-widgets/base",
      "model_module_version": "1.2.0",
      "model_name": "LayoutModel",
      "state": {
       "_model_module": "@jupyter-widgets/base",
       "_model_module_version": "1.2.0",
       "_model_name": "LayoutModel",
       "_view_count": null,
       "_view_module": "@jupyter-widgets/base",
       "_view_module_version": "1.2.0",
       "_view_name": "LayoutView",
       "align_content": null,
       "align_items": null,
       "align_self": null,
       "border": null,
       "bottom": null,
       "display": null,
       "flex": null,
       "flex_flow": null,
       "grid_area": null,
       "grid_auto_columns": null,
       "grid_auto_flow": null,
       "grid_auto_rows": null,
       "grid_column": null,
       "grid_gap": null,
       "grid_row": null,
       "grid_template_areas": null,
       "grid_template_columns": null,
       "grid_template_rows": null,
       "height": null,
       "justify_content": null,
       "justify_items": null,
       "left": null,
       "margin": null,
       "max_height": null,
       "max_width": null,
       "min_height": null,
       "min_width": null,
       "object_fit": null,
       "object_position": null,
       "order": null,
       "overflow": null,
       "overflow_x": null,
       "overflow_y": null,
       "padding": null,
       "right": null,
       "top": null,
       "visibility": null,
       "width": null
      }
     },
     "7a1a511423314db6bcd273b292d8863c": {
      "model_module": "@jupyter-widgets/base",
      "model_module_version": "1.2.0",
      "model_name": "LayoutModel",
      "state": {
       "_model_module": "@jupyter-widgets/base",
       "_model_module_version": "1.2.0",
       "_model_name": "LayoutModel",
       "_view_count": null,
       "_view_module": "@jupyter-widgets/base",
       "_view_module_version": "1.2.0",
       "_view_name": "LayoutView",
       "align_content": null,
       "align_items": null,
       "align_self": null,
       "border": null,
       "bottom": null,
       "display": null,
       "flex": null,
       "flex_flow": null,
       "grid_area": null,
       "grid_auto_columns": null,
       "grid_auto_flow": null,
       "grid_auto_rows": null,
       "grid_column": null,
       "grid_gap": null,
       "grid_row": null,
       "grid_template_areas": null,
       "grid_template_columns": null,
       "grid_template_rows": null,
       "height": null,
       "justify_content": null,
       "justify_items": null,
       "left": null,
       "margin": null,
       "max_height": null,
       "max_width": null,
       "min_height": null,
       "min_width": null,
       "object_fit": null,
       "object_position": null,
       "order": null,
       "overflow": null,
       "overflow_x": null,
       "overflow_y": null,
       "padding": null,
       "right": null,
       "top": null,
       "visibility": null,
       "width": null
      }
     },
     "7ad4c08c643a421caeb8c4ea1cd58532": {
      "model_module": "@jupyter-widgets/controls",
      "model_module_version": "1.5.0",
      "model_name": "DescriptionStyleModel",
      "state": {
       "_model_module": "@jupyter-widgets/controls",
       "_model_module_version": "1.5.0",
       "_model_name": "DescriptionStyleModel",
       "_view_count": null,
       "_view_module": "@jupyter-widgets/base",
       "_view_module_version": "1.2.0",
       "_view_name": "StyleView",
       "description_width": ""
      }
     },
     "7e34370a8d86413ebdc3af21b923c397": {
      "model_module": "@jupyter-widgets/base",
      "model_module_version": "1.2.0",
      "model_name": "LayoutModel",
      "state": {
       "_model_module": "@jupyter-widgets/base",
       "_model_module_version": "1.2.0",
       "_model_name": "LayoutModel",
       "_view_count": null,
       "_view_module": "@jupyter-widgets/base",
       "_view_module_version": "1.2.0",
       "_view_name": "LayoutView",
       "align_content": null,
       "align_items": null,
       "align_self": null,
       "border": null,
       "bottom": null,
       "display": null,
       "flex": null,
       "flex_flow": null,
       "grid_area": null,
       "grid_auto_columns": null,
       "grid_auto_flow": null,
       "grid_auto_rows": null,
       "grid_column": null,
       "grid_gap": null,
       "grid_row": null,
       "grid_template_areas": null,
       "grid_template_columns": null,
       "grid_template_rows": null,
       "height": null,
       "justify_content": null,
       "justify_items": null,
       "left": null,
       "margin": null,
       "max_height": null,
       "max_width": null,
       "min_height": null,
       "min_width": null,
       "object_fit": null,
       "object_position": null,
       "order": null,
       "overflow": null,
       "overflow_x": null,
       "overflow_y": null,
       "padding": null,
       "right": null,
       "top": null,
       "visibility": null,
       "width": null
      }
     },
     "8bce59edca5b46bf97f59fb4165c0bbf": {
      "model_module": "@jupyter-widgets/controls",
      "model_module_version": "1.5.0",
      "model_name": "FloatProgressModel",
      "state": {
       "_dom_classes": [],
       "_model_module": "@jupyter-widgets/controls",
       "_model_module_version": "1.5.0",
       "_model_name": "FloatProgressModel",
       "_view_count": null,
       "_view_module": "@jupyter-widgets/controls",
       "_view_module_version": "1.5.0",
       "_view_name": "ProgressView",
       "bar_style": "success",
       "description": "",
       "description_tooltip": null,
       "layout": "IPY_MODEL_91e58dbda0ab4506be6ba9e666efb651",
       "max": 231508,
       "min": 0,
       "orientation": "horizontal",
       "style": "IPY_MODEL_6e5323df12364b228f920c0b82a1fe87",
       "value": 231508
      }
     },
     "8e2748b1dc604637885bc49fbb93caec": {
      "model_module": "@jupyter-widgets/base",
      "model_module_version": "1.2.0",
      "model_name": "LayoutModel",
      "state": {
       "_model_module": "@jupyter-widgets/base",
       "_model_module_version": "1.2.0",
       "_model_name": "LayoutModel",
       "_view_count": null,
       "_view_module": "@jupyter-widgets/base",
       "_view_module_version": "1.2.0",
       "_view_name": "LayoutView",
       "align_content": null,
       "align_items": null,
       "align_self": null,
       "border": null,
       "bottom": null,
       "display": null,
       "flex": null,
       "flex_flow": null,
       "grid_area": null,
       "grid_auto_columns": null,
       "grid_auto_flow": null,
       "grid_auto_rows": null,
       "grid_column": null,
       "grid_gap": null,
       "grid_row": null,
       "grid_template_areas": null,
       "grid_template_columns": null,
       "grid_template_rows": null,
       "height": null,
       "justify_content": null,
       "justify_items": null,
       "left": null,
       "margin": null,
       "max_height": null,
       "max_width": null,
       "min_height": null,
       "min_width": null,
       "object_fit": null,
       "object_position": null,
       "order": null,
       "overflow": null,
       "overflow_x": null,
       "overflow_y": null,
       "padding": null,
       "right": null,
       "top": null,
       "visibility": null,
       "width": null
      }
     },
     "90e841a78a6f4a63ad09e9db3a590c8c": {
      "model_module": "@jupyter-widgets/base",
      "model_module_version": "1.2.0",
      "model_name": "LayoutModel",
      "state": {
       "_model_module": "@jupyter-widgets/base",
       "_model_module_version": "1.2.0",
       "_model_name": "LayoutModel",
       "_view_count": null,
       "_view_module": "@jupyter-widgets/base",
       "_view_module_version": "1.2.0",
       "_view_name": "LayoutView",
       "align_content": null,
       "align_items": null,
       "align_self": null,
       "border": null,
       "bottom": null,
       "display": null,
       "flex": null,
       "flex_flow": null,
       "grid_area": null,
       "grid_auto_columns": null,
       "grid_auto_flow": null,
       "grid_auto_rows": null,
       "grid_column": null,
       "grid_gap": null,
       "grid_row": null,
       "grid_template_areas": null,
       "grid_template_columns": null,
       "grid_template_rows": null,
       "height": null,
       "justify_content": null,
       "justify_items": null,
       "left": null,
       "margin": null,
       "max_height": null,
       "max_width": null,
       "min_height": null,
       "min_width": null,
       "object_fit": null,
       "object_position": null,
       "order": null,
       "overflow": null,
       "overflow_x": null,
       "overflow_y": null,
       "padding": null,
       "right": null,
       "top": null,
       "visibility": null,
       "width": null
      }
     },
     "91e58dbda0ab4506be6ba9e666efb651": {
      "model_module": "@jupyter-widgets/base",
      "model_module_version": "1.2.0",
      "model_name": "LayoutModel",
      "state": {
       "_model_module": "@jupyter-widgets/base",
       "_model_module_version": "1.2.0",
       "_model_name": "LayoutModel",
       "_view_count": null,
       "_view_module": "@jupyter-widgets/base",
       "_view_module_version": "1.2.0",
       "_view_name": "LayoutView",
       "align_content": null,
       "align_items": null,
       "align_self": null,
       "border": null,
       "bottom": null,
       "display": null,
       "flex": null,
       "flex_flow": null,
       "grid_area": null,
       "grid_auto_columns": null,
       "grid_auto_flow": null,
       "grid_auto_rows": null,
       "grid_column": null,
       "grid_gap": null,
       "grid_row": null,
       "grid_template_areas": null,
       "grid_template_columns": null,
       "grid_template_rows": null,
       "height": null,
       "justify_content": null,
       "justify_items": null,
       "left": null,
       "margin": null,
       "max_height": null,
       "max_width": null,
       "min_height": null,
       "min_width": null,
       "object_fit": null,
       "object_position": null,
       "order": null,
       "overflow": null,
       "overflow_x": null,
       "overflow_y": null,
       "padding": null,
       "right": null,
       "top": null,
       "visibility": null,
       "width": null
      }
     },
     "965be5491f1f4a6e8aca7ed24f9b40da": {
      "model_module": "@jupyter-widgets/controls",
      "model_module_version": "1.5.0",
      "model_name": "HTMLModel",
      "state": {
       "_dom_classes": [],
       "_model_module": "@jupyter-widgets/controls",
       "_model_module_version": "1.5.0",
       "_model_name": "HTMLModel",
       "_view_count": null,
       "_view_module": "@jupyter-widgets/controls",
       "_view_module_version": "1.5.0",
       "_view_name": "HTMLView",
       "description": "",
       "description_tooltip": null,
       "layout": "IPY_MODEL_8e2748b1dc604637885bc49fbb93caec",
       "placeholder": "​",
       "style": "IPY_MODEL_9872208f6e314298a26dbe264e93f526",
       "value": " 286/286 [00:00&lt;00:00, 20.1kB/s]"
      }
     },
     "9872208f6e314298a26dbe264e93f526": {
      "model_module": "@jupyter-widgets/controls",
      "model_module_version": "1.5.0",
      "model_name": "DescriptionStyleModel",
      "state": {
       "_model_module": "@jupyter-widgets/controls",
       "_model_module_version": "1.5.0",
       "_model_name": "DescriptionStyleModel",
       "_view_count": null,
       "_view_module": "@jupyter-widgets/base",
       "_view_module_version": "1.2.0",
       "_view_name": "StyleView",
       "description_width": ""
      }
     },
     "98d5ba006c0043a3ba8f3549f790a91b": {
      "model_module": "@jupyter-widgets/controls",
      "model_module_version": "1.5.0",
      "model_name": "HTMLModel",
      "state": {
       "_dom_classes": [],
       "_model_module": "@jupyter-widgets/controls",
       "_model_module_version": "1.5.0",
       "_model_name": "HTMLModel",
       "_view_count": null,
       "_view_module": "@jupyter-widgets/controls",
       "_view_module_version": "1.5.0",
       "_view_name": "HTMLView",
       "description": "",
       "description_tooltip": null,
       "layout": "IPY_MODEL_2dca4f706a224b68ac44e821dcf47f3d",
       "placeholder": "​",
       "style": "IPY_MODEL_d109b868844744dc8a71bed281f43ab0",
       "value": " 116M/116M [00:00&lt;00:00, 225MB/s]"
      }
     },
     "a11bba18e8d547b0996c226e399d035d": {
      "model_module": "@jupyter-widgets/controls",
      "model_module_version": "1.5.0",
      "model_name": "HBoxModel",
      "state": {
       "_dom_classes": [],
       "_model_module": "@jupyter-widgets/controls",
       "_model_module_version": "1.5.0",
       "_model_name": "HBoxModel",
       "_view_count": null,
       "_view_module": "@jupyter-widgets/controls",
       "_view_module_version": "1.5.0",
       "_view_name": "HBoxView",
       "box_style": "",
       "children": [
        "IPY_MODEL_53630b5c4b5447d5bd3135496cd44f1b",
        "IPY_MODEL_2a423ed8b9404d62b3fb5aa7003f5ba8",
        "IPY_MODEL_965be5491f1f4a6e8aca7ed24f9b40da"
       ],
       "layout": "IPY_MODEL_7439b51a40a24afd88e47201c874b459"
      }
     },
     "a2e584408a87487896311c1eca342e7d": {
      "model_module": "@jupyter-widgets/base",
      "model_module_version": "1.2.0",
      "model_name": "LayoutModel",
      "state": {
       "_model_module": "@jupyter-widgets/base",
       "_model_module_version": "1.2.0",
       "_model_name": "LayoutModel",
       "_view_count": null,
       "_view_module": "@jupyter-widgets/base",
       "_view_module_version": "1.2.0",
       "_view_name": "LayoutView",
       "align_content": null,
       "align_items": null,
       "align_self": null,
       "border": null,
       "bottom": null,
       "display": null,
       "flex": null,
       "flex_flow": null,
       "grid_area": null,
       "grid_auto_columns": null,
       "grid_auto_flow": null,
       "grid_auto_rows": null,
       "grid_column": null,
       "grid_gap": null,
       "grid_row": null,
       "grid_template_areas": null,
       "grid_template_columns": null,
       "grid_template_rows": null,
       "height": null,
       "justify_content": null,
       "justify_items": null,
       "left": null,
       "margin": null,
       "max_height": null,
       "max_width": null,
       "min_height": null,
       "min_width": null,
       "object_fit": null,
       "object_position": null,
       "order": null,
       "overflow": null,
       "overflow_x": null,
       "overflow_y": null,
       "padding": null,
       "right": null,
       "top": null,
       "visibility": null,
       "width": null
      }
     },
     "a4ca22187ecf48468ade3781199421e7": {
      "model_module": "@jupyter-widgets/controls",
      "model_module_version": "1.5.0",
      "model_name": "HBoxModel",
      "state": {
       "_dom_classes": [],
       "_model_module": "@jupyter-widgets/controls",
       "_model_module_version": "1.5.0",
       "_model_name": "HBoxModel",
       "_view_count": null,
       "_view_module": "@jupyter-widgets/controls",
       "_view_module_version": "1.5.0",
       "_view_name": "HBoxView",
       "box_style": "",
       "children": [
        "IPY_MODEL_aa1b269f959f42968ce4f5a53cc3c680",
        "IPY_MODEL_8bce59edca5b46bf97f59fb4165c0bbf",
        "IPY_MODEL_33470685de3c412086593855ece140eb"
       ],
       "layout": "IPY_MODEL_bed5879f47ca41cdbaeb60d294697867"
      }
     },
     "aa1b269f959f42968ce4f5a53cc3c680": {
      "model_module": "@jupyter-widgets/controls",
      "model_module_version": "1.5.0",
      "model_name": "HTMLModel",
      "state": {
       "_dom_classes": [],
       "_model_module": "@jupyter-widgets/controls",
       "_model_module_version": "1.5.0",
       "_model_name": "HTMLModel",
       "_view_count": null,
       "_view_module": "@jupyter-widgets/controls",
       "_view_module_version": "1.5.0",
       "_view_name": "HTMLView",
       "description": "",
       "description_tooltip": null,
       "layout": "IPY_MODEL_c56f13e372e14a088a7e56238edfa003",
       "placeholder": "​",
       "style": "IPY_MODEL_ee82821a9b484f7880399b0c6ffdfcb1",
       "value": "Downloading vocab.txt: 100%"
      }
     },
     "bed5879f47ca41cdbaeb60d294697867": {
      "model_module": "@jupyter-widgets/base",
      "model_module_version": "1.2.0",
      "model_name": "LayoutModel",
      "state": {
       "_model_module": "@jupyter-widgets/base",
       "_model_module_version": "1.2.0",
       "_model_name": "LayoutModel",
       "_view_count": null,
       "_view_module": "@jupyter-widgets/base",
       "_view_module_version": "1.2.0",
       "_view_name": "LayoutView",
       "align_content": null,
       "align_items": null,
       "align_self": null,
       "border": null,
       "bottom": null,
       "display": null,
       "flex": null,
       "flex_flow": null,
       "grid_area": null,
       "grid_auto_columns": null,
       "grid_auto_flow": null,
       "grid_auto_rows": null,
       "grid_column": null,
       "grid_gap": null,
       "grid_row": null,
       "grid_template_areas": null,
       "grid_template_columns": null,
       "grid_template_rows": null,
       "height": null,
       "justify_content": null,
       "justify_items": null,
       "left": null,
       "margin": null,
       "max_height": null,
       "max_width": null,
       "min_height": null,
       "min_width": null,
       "object_fit": null,
       "object_position": null,
       "order": null,
       "overflow": null,
       "overflow_x": null,
       "overflow_y": null,
       "padding": null,
       "right": null,
       "top": null,
       "visibility": null,
       "width": null
      }
     },
     "c56f13e372e14a088a7e56238edfa003": {
      "model_module": "@jupyter-widgets/base",
      "model_module_version": "1.2.0",
      "model_name": "LayoutModel",
      "state": {
       "_model_module": "@jupyter-widgets/base",
       "_model_module_version": "1.2.0",
       "_model_name": "LayoutModel",
       "_view_count": null,
       "_view_module": "@jupyter-widgets/base",
       "_view_module_version": "1.2.0",
       "_view_name": "LayoutView",
       "align_content": null,
       "align_items": null,
       "align_self": null,
       "border": null,
       "bottom": null,
       "display": null,
       "flex": null,
       "flex_flow": null,
       "grid_area": null,
       "grid_auto_columns": null,
       "grid_auto_flow": null,
       "grid_auto_rows": null,
       "grid_column": null,
       "grid_gap": null,
       "grid_row": null,
       "grid_template_areas": null,
       "grid_template_columns": null,
       "grid_template_rows": null,
       "height": null,
       "justify_content": null,
       "justify_items": null,
       "left": null,
       "margin": null,
       "max_height": null,
       "max_width": null,
       "min_height": null,
       "min_width": null,
       "object_fit": null,
       "object_position": null,
       "order": null,
       "overflow": null,
       "overflow_x": null,
       "overflow_y": null,
       "padding": null,
       "right": null,
       "top": null,
       "visibility": null,
       "width": null
      }
     },
     "d109b868844744dc8a71bed281f43ab0": {
      "model_module": "@jupyter-widgets/controls",
      "model_module_version": "1.5.0",
      "model_name": "DescriptionStyleModel",
      "state": {
       "_model_module": "@jupyter-widgets/controls",
       "_model_module_version": "1.5.0",
       "_model_name": "DescriptionStyleModel",
       "_view_count": null,
       "_view_module": "@jupyter-widgets/base",
       "_view_module_version": "1.2.0",
       "_view_name": "StyleView",
       "description_width": ""
      }
     },
     "e679c627d3284cb7a58e5e283caa33b1": {
      "model_module": "@jupyter-widgets/controls",
      "model_module_version": "1.5.0",
      "model_name": "ProgressStyleModel",
      "state": {
       "_model_module": "@jupyter-widgets/controls",
       "_model_module_version": "1.5.0",
       "_model_name": "ProgressStyleModel",
       "_view_count": null,
       "_view_module": "@jupyter-widgets/base",
       "_view_module_version": "1.2.0",
       "_view_name": "StyleView",
       "bar_color": null,
       "description_width": ""
      }
     },
     "ee82821a9b484f7880399b0c6ffdfcb1": {
      "model_module": "@jupyter-widgets/controls",
      "model_module_version": "1.5.0",
      "model_name": "DescriptionStyleModel",
      "state": {
       "_model_module": "@jupyter-widgets/controls",
       "_model_module_version": "1.5.0",
       "_model_name": "DescriptionStyleModel",
       "_view_count": null,
       "_view_module": "@jupyter-widgets/base",
       "_view_module_version": "1.2.0",
       "_view_name": "StyleView",
       "description_width": ""
      }
     },
     "f1e85178e0504dbca1d3944a90af78c4": {
      "model_module": "@jupyter-widgets/controls",
      "model_module_version": "1.5.0",
      "model_name": "DescriptionStyleModel",
      "state": {
       "_model_module": "@jupyter-widgets/controls",
       "_model_module_version": "1.5.0",
       "_model_name": "DescriptionStyleModel",
       "_view_count": null,
       "_view_module": "@jupyter-widgets/base",
       "_view_module_version": "1.2.0",
       "_view_name": "StyleView",
       "description_width": ""
      }
     },
     "f889c0db22654a4b9caafe530a2a655b": {
      "model_module": "@jupyter-widgets/controls",
      "model_module_version": "1.5.0",
      "model_name": "FloatProgressModel",
      "state": {
       "_dom_classes": [],
       "_model_module": "@jupyter-widgets/controls",
       "_model_module_version": "1.5.0",
       "_model_name": "FloatProgressModel",
       "_view_count": null,
       "_view_module": "@jupyter-widgets/controls",
       "_view_module_version": "1.5.0",
       "_view_name": "ProgressView",
       "bar_style": "success",
       "description": "",
       "description_tooltip": null,
       "layout": "IPY_MODEL_a2e584408a87487896311c1eca342e7d",
       "max": 116270890,
       "min": 0,
       "orientation": "horizontal",
       "style": "IPY_MODEL_e679c627d3284cb7a58e5e283caa33b1",
       "value": 116270890
      }
     }
    },
    "version_major": 2,
    "version_minor": 0
   }
  }
 },
 "nbformat": 4,
 "nbformat_minor": 5
}
